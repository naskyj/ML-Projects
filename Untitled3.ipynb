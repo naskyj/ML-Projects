{
 "cells": [
  {
   "cell_type": "code",
   "execution_count": 1,
   "id": "fb542a3c-2c2b-4374-b963-73f75d66526e",
   "metadata": {},
   "outputs": [],
   "source": [
    "import os\n",
    "import pickle\n",
    "import shutil\n",
    "import warnings\n",
    "import random as r\n",
    "import numpy as np\n",
    "import pandas as pd\n",
    "import seaborn as sns\n",
    "\n",
    "# Matplotlib Imports\n",
    "import matplotlib  \n",
    "import matplotlib.pyplot as plt\n",
    "matplotlib.use(u'nbAgg')\n",
    "%matplotlib inline\n",
    "\n",
    "import multiprocessing\n",
    "from multiprocessing import Process\n",
    "\n",
    "# This is used for file operations\n",
    "import codecs "
   ]
  },
  {
   "cell_type": "code",
   "execution_count": 38,
   "id": "26e258d9-d0e4-458d-8776-cc7f67664595",
   "metadata": {},
   "outputs": [],
   "source": [
    "data_path = \"malware-classification\"\n",
    "final_path = \"deeplearning\"\n",
    "\n",
    "filetype = \"xml\"\n",
    "extension = \".\" + filetype\n",
    "folder = filetype + \"_dataset\"\n",
    "\n",
    "byte_destination = os.path.join(final_path, folder)"
   ]
  },
  {
   "cell_type": "code",
   "execution_count": 39,
   "id": "1faa8e0f-ec99-42b4-9152-4ea130945274",
   "metadata": {},
   "outputs": [],
   "source": [
    "for dirpath, dirnames, filenames in os.walk(data_path):\n",
    "    for directory in dirnames:\n",
    "        current_directory = os.path.join(dirpath, directory)\n",
    "        if os.path.isdir(current_directory):\n",
    "            #print(current_directory)\n",
    "            \n",
    "            files = os.listdir(current_directory)\n",
    "            \n",
    "            for file in files:\n",
    "                #print(file)\n",
    "                if(file.endswith(extension)):\n",
    "                    shutil.move(os.path.join(current_directory, file), byte_destination)\n"
   ]
  },
  {
   "cell_type": "code",
   "execution_count": null,
   "id": "c52096bb-3881-4456-a65c-18be106c0f95",
   "metadata": {},
   "outputs": [],
   "source": []
  }
 ],
 "metadata": {
  "kernelspec": {
   "display_name": "Python 3 (ipykernel)",
   "language": "python",
   "name": "python3"
  },
  "language_info": {
   "codemirror_mode": {
    "name": "ipython",
    "version": 3
   },
   "file_extension": ".py",
   "mimetype": "text/x-python",
   "name": "python",
   "nbconvert_exporter": "python",
   "pygments_lexer": "ipython3",
   "version": "3.10.4"
  }
 },
 "nbformat": 4,
 "nbformat_minor": 5
}
