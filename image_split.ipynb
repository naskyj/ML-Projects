{
 "cells": [
  {
   "cell_type": "code",
   "execution_count": 6,
   "id": "fa2026b8-a68c-421e-95ed-fb2c99c808b3",
   "metadata": {},
   "outputs": [
    {
     "name": "stdout",
     "output_type": "stream",
     "text": [
      "cwt\\test_{:03}.png\n"
     ]
    }
   ],
   "source": [
    "import os\n",
    "import glob\n",
    "from PIL import Image\n",
    "Image.MAX_IMAGE_PIXELS = None # to avoid image size warning\n",
    "\n",
    "imgdir = \"cwt\"\n",
    "# if you want file of a specific extension (.png):\n",
    "filelist = [f for f in glob.glob(imgdir + \"**/*.png\", recursive=True)]\n",
    "savedir = \"cwt\"\n",
    "\n",
    "start_pos = start_x, start_y = (0, 0)\n",
    "cropped_image_size = w, h = (500, 500)\n",
    "\n",
    "for file in filelist:\n",
    "    img = Image.open(file)\n",
    "    width, height = img.size\n",
    "\n",
    "    frame_num = 1\n",
    "    for col_i in range(0, width, w):\n",
    "        for row_i in range(0, height, h):\n",
    "            crop = img.crop((col_i, row_i, col_i + w, row_i + h))\n",
    "            name = os.path.basename(file)\n",
    "            name = os.path.splitext(name)[0]\n",
    "            save_to= os.path.join(savedir, name+\"_{:03}.png\")\n",
    "            print(save_to)\n",
    "            crop.save(save_to.format(frame_num))\n",
    "            frame_num += 1"
   ]
  },
  {
   "cell_type": "code",
   "execution_count": 14,
   "id": "2a43a710-e762-4bb3-8d53-318845ab5709",
   "metadata": {},
   "outputs": [
    {
     "name": "stdout",
     "output_type": "stream",
     "text": [
      "Collecting split-image\n",
      "  Downloading split_image-2.0.1-py3-none-any.whl (6.6 kB)\n",
      "Requirement already satisfied: Pillow in c:\\users\\razaq\\appdata\\local\\programs\\python\\python310\\lib\\site-packages (from split-image) (9.1.0)\n",
      "Installing collected packages: split-image\n",
      "Successfully installed split-image-2.0.1\n",
      "Note: you may need to restart the kernel to use updated packages.\n"
     ]
    },
    {
     "name": "stderr",
     "output_type": "stream",
     "text": [
      "WARNING: You are using pip version 22.0.4; however, version 23.0 is available.\n",
      "You should consider upgrading via the 'C:\\Users\\Razaq\\AppData\\Local\\Programs\\Python\\Python310\\python.exe -m pip install --upgrade pip' command.\n"
     ]
    }
   ],
   "source": [
    "pip install split-image"
   ]
  },
  {
   "cell_type": "code",
   "execution_count": 17,
   "id": "6bed7c0d-2152-4c4c-abf6-d321a55f1e7c",
   "metadata": {},
   "outputs": [
    {
     "name": "stdout",
     "output_type": "stream",
     "text": [
      "Resizing image to a square...\n",
      "Determining background color...\n",
      "Background color is... (255, 255, 255, 255)\n",
      "Exporting resized image...\n",
      "Exporting image tile: ./download_0_0.png\n",
      "Exporting image tile: ./download_0_1.png\n"
     ]
    }
   ],
   "source": [
    "from split_image import split_image\n",
    "\n",
    "split_image(\"download_0.png\", 1, 2, True, False)"
   ]
  },
  {
   "cell_type": "code",
   "execution_count": null,
   "id": "866e582e-363f-418d-9d28-1a93f756c52f",
   "metadata": {},
   "outputs": [],
   "source": []
  }
 ],
 "metadata": {
  "kernelspec": {
   "display_name": "Python 3 (ipykernel)",
   "language": "python",
   "name": "python3"
  },
  "language_info": {
   "codemirror_mode": {
    "name": "ipython",
    "version": 3
   },
   "file_extension": ".py",
   "mimetype": "text/x-python",
   "name": "python",
   "nbconvert_exporter": "python",
   "pygments_lexer": "ipython3",
   "version": "3.10.4"
  }
 },
 "nbformat": 4,
 "nbformat_minor": 5
}
