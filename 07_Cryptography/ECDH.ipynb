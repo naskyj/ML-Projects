{
 "cells": [
  {
   "cell_type": "code",
   "execution_count": 5,
   "id": "73d06a02-ee51-4cbc-8ba8-04e8a18ba254",
   "metadata": {},
   "outputs": [],
   "source": [
    "from tinyec import registry as ecc\n",
    "import secrets"
   ]
  },
  {
   "cell_type": "code",
   "execution_count": 6,
   "id": "feba05c9-09a0-4a46-9806-c7cf0540644b",
   "metadata": {},
   "outputs": [
    {
     "name": "stdout",
     "output_type": "stream",
     "text": [
      "Alice public key: (5992106569598923226715420132870510384965889631757881075288, 3119224085226686166433692434828814805415659362384428099610) on \"secp192r1\" => y^2 = x^3 + 6277101735386680763835789423207666416083908700390324961276x + 2455155546008943817740293915197451784769108058161191238065 (mod 6277101735386680763835789423207666416083908700390324961279)\n",
      "Bob public key: 0xfa3fa25eec1cdba40e3205f744825e4ea7e263e01b4032fa1\n",
      "Now exchange the public keys (e.g. through Internet)\n",
      "Alice shared key: 0x87e34aa682b9e36956b2a1e8c61dc146687f09212c5253b10\n",
      "Bob shared key: 0x87e34aa682b9e36956b2a1e8c61dc146687f09212c5253b10\n",
      "Equal shared keys: True\n"
     ]
    }
   ],
   "source": [
    "def get_xy(pubKey):\n",
    "    return hex(pubKey.x) + hex(pubKey.y % 2)[2:]\n",
    "\n",
    "curve = ecc.get_curve('secp192r1')\n",
    "\n",
    "alicePrivKey = secrets.randbelow(curve.field.n)\n",
    "alicePubKey = alicePrivKey * curve.g\n",
    "print(\"Alice public key:\", get_xy(alicePubKey))\n",
    "\n",
    "bobPrivKey = secrets.randbelow(curve.field.n)\n",
    "bobPubKey = bobPrivKey * curve.g\n",
    "print(\"Bob public key:\", get_xy(bobPubKey))\n",
    "\n",
    "print(\"Now exchange the public keys (e.g. through Internet)\")\n",
    "\n",
    "aliceSharedKey = alicePrivKey * bobPubKey\n",
    "print(\"Alice shared key:\", get_xy(aliceSharedKey))\n",
    "\n",
    "bobSharedKey = bobPrivKey * alicePubKey\n",
    "print(\"Bob shared key:\", get_xy(bobSharedKey))\n",
    "\n",
    "print(\"Equal shared keys:\", aliceSharedKey == bobSharedKey)"
   ]
  },
  {
   "cell_type": "code",
   "execution_count": 8,
   "id": "fead66cf-614e-4328-9066-5e168a64acf5",
   "metadata": {},
   "outputs": [
    {
     "name": "stdout",
     "output_type": "stream",
     "text": [
      "(602046282375688656758213480587526111916698976636884684818, 174050332293622031404857552280219410364023488927386650641) on \"secp192r1\" => y^2 = x^3 + 6277101735386680763835789423207666416083908700390324961276x + 2455155546008943817740293915197451784769108058161191238065 (mod 6277101735386680763835789423207666416083908700390324961279)\n"
     ]
    }
   ],
   "source": [
    "curve = ecc.get_curve('secp192r1')\n",
    "print(curve.g)"
   ]
  },
  {
   "cell_type": "code",
   "execution_count": null,
   "id": "6ca3a94e-8307-47d4-b6c7-72d413c0faa0",
   "metadata": {},
   "outputs": [],
   "source": []
  }
 ],
 "metadata": {
  "kernelspec": {
   "display_name": "Python 3 (ipykernel)",
   "language": "python",
   "name": "python3"
  },
  "language_info": {
   "codemirror_mode": {
    "name": "ipython",
    "version": 3
   },
   "file_extension": ".py",
   "mimetype": "text/x-python",
   "name": "python",
   "nbconvert_exporter": "python",
   "pygments_lexer": "ipython3",
   "version": "3.10.4"
  }
 },
 "nbformat": 4,
 "nbformat_minor": 5
}
