{
 "cells": [
  {
   "cell_type": "code",
   "execution_count": 20,
   "id": "c282d0d1-199b-4ea4-b13d-32276f8cfa9b",
   "metadata": {},
   "outputs": [],
   "source": [
    "import math\n",
    "     \n",
    "def clockadd(P1,P2):\n",
    "    x1,y1 = P1\n",
    "    x2,y2 = P2\n",
    "    \n",
    "    x3 = x1*y2+y1*x2\n",
    "    y3 = y1*y2-x1*x2\n",
    "    \n",
    "    return x3,y3\n"
   ]
  },
  {
   "cell_type": "code",
   "execution_count": 21,
   "id": "6fab0ff9-029e-46e0-bb77-9284a8a0431e",
   "metadata": {},
   "outputs": [],
   "source": [
    "def F(p):\n",
    "    \n",
    "    class F:\n",
    "        def __init__(self,x):\n",
    "            self.int = x % p\n",
    "        def __str__(self):\n",
    "            return str(self.int)\n",
    "        __repr__ = __str__\n",
    "        def __eq__(a,b):\n",
    "            return a.int == b.int\n",
    "        def __ne__(a,b):\n",
    "            return a.int != b.int\n",
    "        def __add__(a,b):\n",
    "            return F(a.int + b.int)\n",
    "        def __sub__(a,b):\n",
    "            return F(a.int - b.int)\n",
    "        def __mul__(a,b):\n",
    "            return F(a.int * b.int)\n",
    "        def __div__(a,b):\n",
    "            # caveat: caller must ensure that b is nonzero\n",
    "            return a*F(pow(b.int,p-2,p))\n",
    "    return F"
   ]
  },
  {
   "cell_type": "code",
   "execution_count": 22,
   "id": "2ead4701-3e9f-4140-951c-36083421eb5d",
   "metadata": {},
   "outputs": [],
   "source": [
    "def scalarmult(n,P):\n",
    "    \n",
    "    if n == 0: return (Fp(0),Fp(1))\n",
    "    if n == 1: return P\n",
    "  \n",
    "    Q = scalarmult(n//2,P)\n",
    "    Q = clockadd(Q,Q)\n",
    "    if n % 2: Q = clockadd(P,Q)\n",
    "    return Q"
   ]
  },
  {
   "cell_type": "code",
   "execution_count": 23,
   "id": "a0a43a49-948d-4b20-af37-4b5363b88c14",
   "metadata": {},
   "outputs": [
    {
     "name": "stdout",
     "output_type": "stream",
     "text": [
      "Secret n is 314159\n"
     ]
    }
   ],
   "source": [
    "p = 1000003\n",
    "Fp = F(p)\n",
    "\n",
    "P = (Fp(1000),Fp(2))\n",
    "\n",
    "Q = (Fp(947472), Fp(736284))\n",
    "\n",
    "for n in range(100000, 999999):\n",
    "  \n",
    "    result = scalarmult(n, P)\n",
    "   \n",
    "    if (compareTuple(result, Q)):\n",
    "       \n",
    "        print(f\"Secret n is {n}\")\n",
    "        break\n",
    "        "
   ]
  },
  {
   "cell_type": "code",
   "execution_count": null,
   "id": "ccae7473-6b05-49fa-8cc0-6b3fd6fe5401",
   "metadata": {},
   "outputs": [],
   "source": []
  },
  {
   "cell_type": "code",
   "execution_count": null,
   "id": "b64f0326-f5de-4a83-bb6d-649abb2fa852",
   "metadata": {},
   "outputs": [],
   "source": []
  }
 ],
 "metadata": {
  "kernelspec": {
   "display_name": "Python 3 (ipykernel)",
   "language": "python",
   "name": "python3"
  },
  "language_info": {
   "codemirror_mode": {
    "name": "ipython",
    "version": 3
   },
   "file_extension": ".py",
   "mimetype": "text/x-python",
   "name": "python",
   "nbconvert_exporter": "python",
   "pygments_lexer": "ipython3",
   "version": "3.10.4"
  }
 },
 "nbformat": 4,
 "nbformat_minor": 5
}
