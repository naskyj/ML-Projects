{
 "cells": [
  {
   "cell_type": "code",
   "execution_count": 15,
   "id": "0723aca9-36c2-4cc7-8f32-d4fc0bc6d1f2",
   "metadata": {},
   "outputs": [],
   "source": [
    "import cv2\n",
    "import pandas as pd\n",
    "import numpy as np\n",
    "import matplotlib.pyplot as plt\n",
    "import json\n",
    "import os\n",
    "from tqdm import tqdm, tqdm_notebook\n",
    "from keras.models import Sequential\n",
    "from keras.layers import Activation, Dropout, Flatten, Dense\n",
    "from keras.layers import Input, Dense, Activation, BatchNormalization, Flatten, Conv2D\n",
    "from keras.layers import AveragePooling2D, MaxPooling2D, Dropout, GlobalAveragePooling2D\n",
    "from keras.models import Model\n",
    "from keras.preprocessing import image as image_utils\n",
    "from keras.applications.imagenet_utils import preprocess_input, decode_predictions\n",
    "from keras.layers import Convolution2D, Dense, Input, Flatten, Dropout, MaxPooling2D, BatchNormalization, GlobalAveragePooling2D, Activation, Concatenate\n",
    "from keras import Sequential\n",
    "\n",
    "from sklearn.utils.multiclass import unique_labels\n",
    "from sklearn.model_selection import train_test_split\n",
    "from sklearn.metrics import confusion_matrix\n",
    "\n",
    "from keras.preprocessing.image import ImageDataGenerator\n",
    "#from keras.optimizers import SGD,Adam\n",
    "from tensorflow.keras.optimizers import SGD, Adam\n",
    "from keras.callbacks import ReduceLROnPlateau\n",
    "from tensorflow.keras.utils import to_categorical\n",
    "\n",
    "#Different Transfer learning rate/models\n",
    "#https://keras.io/api/applications/\n",
    "from tensorflow.keras.applications.inception_v3 import InceptionV3\n",
    "from tensorflow.keras.applications.xception import Xception\n",
    "# from keras.applications.resnet50 import ResNet50\n",
    "from tensorflow.keras.applications.resnet50 import ResNet50\n",
    "from tensorflow.keras.applications.resnet import ResNet101\n",
    "from tensorflow.keras.applications.vgg16 import VGG16\n",
    "from tensorflow.keras.applications.vgg19 import VGG19"
   ]
  },
  {
   "cell_type": "code",
   "execution_count": 16,
   "id": "d5f58a89-9e62-441d-bd26-13fcaf605aea",
   "metadata": {},
   "outputs": [
    {
     "data": {
      "text/html": [
       "<div>\n",
       "<style scoped>\n",
       "    .dataframe tbody tr th:only-of-type {\n",
       "        vertical-align: middle;\n",
       "    }\n",
       "\n",
       "    .dataframe tbody tr th {\n",
       "        vertical-align: top;\n",
       "    }\n",
       "\n",
       "    .dataframe thead th {\n",
       "        text-align: right;\n",
       "    }\n",
       "</style>\n",
       "<table border=\"1\" class=\"dataframe\">\n",
       "  <thead>\n",
       "    <tr style=\"text-align: right;\">\n",
       "      <th></th>\n",
       "      <th>ImageName</th>\n",
       "      <th>FileType</th>\n",
       "      <th>Class</th>\n",
       "    </tr>\n",
       "  </thead>\n",
       "  <tbody>\n",
       "    <tr>\n",
       "      <th>0</th>\n",
       "      <td>000008</td>\n",
       "      <td>ppt</td>\n",
       "      <td>0</td>\n",
       "    </tr>\n",
       "    <tr>\n",
       "      <th>1</th>\n",
       "      <td>000027</td>\n",
       "      <td>csv</td>\n",
       "      <td>1</td>\n",
       "    </tr>\n",
       "    <tr>\n",
       "      <th>2</th>\n",
       "      <td>000039</td>\n",
       "      <td>xml</td>\n",
       "      <td>2</td>\n",
       "    </tr>\n",
       "    <tr>\n",
       "      <th>3</th>\n",
       "      <td>000067</td>\n",
       "      <td>xml</td>\n",
       "      <td>2</td>\n",
       "    </tr>\n",
       "    <tr>\n",
       "      <th>4</th>\n",
       "      <td>000081</td>\n",
       "      <td>txt</td>\n",
       "      <td>3</td>\n",
       "    </tr>\n",
       "  </tbody>\n",
       "</table>\n",
       "</div>"
      ],
      "text/plain": [
       "  ImageName FileType  Class\n",
       "0    000008      ppt      0\n",
       "1    000027      csv      1\n",
       "2    000039      xml      2\n",
       "3    000067      xml      2\n",
       "4    000081      txt      3"
      ]
     },
     "execution_count": 16,
     "metadata": {},
     "output_type": "execute_result"
    }
   ],
   "source": [
    "train_dir = \"grayscale\"\n",
    "\n",
    "train_df = pd.read_csv('file_types.csv')\n",
    "train_df['ImageName'] = train_df['ImageName'].astype(str)\n",
    "train_df['ImageName'] = train_df['ImageName'].astype(str).str.zfill(6)\n",
    "train_df['Class'] = pd.factorize(train_df['FileType'])[0] \n",
    "train_df.head()"
   ]
  },
  {
   "cell_type": "code",
   "execution_count": 17,
   "id": "05e45d6e-04af-495e-a69c-3c105bf45f86",
   "metadata": {},
   "outputs": [],
   "source": [
    "width = 100\n",
    "height = 100"
   ]
  },
  {
   "cell_type": "code",
   "execution_count": 18,
   "id": "37f5ee7f-bf5f-46fa-90c5-7a56bfc1a0ee",
   "metadata": {},
   "outputs": [],
   "source": [
    "model = Sequential()\n",
    "\n",
    "model.add(Conv2D(32, (5, 5), strides = (1, 1), name = 'conv0', input_shape = (height, width, 1)))\n",
    "\n",
    "model.add(BatchNormalization(axis = 3, name = 'bn0'))\n",
    "model.add(Activation('relu'))\n",
    "\n",
    "model.add(MaxPooling2D((2, 2), name='max_pool'))\n",
    "model.add(Conv2D(64, (3, 3), strides = (1,1), name=\"conv1\"))\n",
    "model.add(Activation('relu'))\n",
    "model.add(AveragePooling2D((3, 3), name='avg_pool'))\n",
    "\n",
    "model.add(GlobalAveragePooling2D())\n",
    "model.add(Dense(300, activation=\"relu\", name='rl'))\n",
    "model.add(Dropout(0.5))\n",
    "model.add(Dense(14, activation='softmax', name='sm'))"
   ]
  },
  {
   "cell_type": "code",
   "execution_count": 19,
   "id": "d14e4302-c689-4393-b32d-c61f636d73d0",
   "metadata": {},
   "outputs": [
    {
     "name": "stderr",
     "output_type": "stream",
     "text": [
      "C:\\Users\\Razaq\\AppData\\Local\\Programs\\Python\\Python310\\lib\\site-packages\\keras\\optimizer_v2\\adam.py:105: UserWarning: The `lr` argument is deprecated, use `learning_rate` instead.\n",
      "  super(Adam, self).__init__(name, **kwargs)\n"
     ]
    }
   ],
   "source": [
    "model.compile(loss='sparse_categorical_crossentropy',\n",
    "              optimizer=Adam(lr=1e-5), \n",
    "              metrics=['accuracy'])"
   ]
  },
  {
   "cell_type": "code",
   "execution_count": 20,
   "id": "188011a8-a0ca-42fe-ba41-cf4ccfd08c31",
   "metadata": {},
   "outputs": [],
   "source": [
    "X_tr = []\n",
    "Y_tr = []\n",
    "imges = train_df['ImageName'].values\n",
    "for img_id in imges:\n",
    "    file = os.path.join(train_dir, img_id) + '.png'\n",
    "   \n",
    "    temp = cv2.imread(file) \n",
    "            \n",
    "    temp = cv2.cvtColor(temp, cv2.COLOR_BGR2GRAY)\n",
    "    temp = np.expand_dims(temp, axis=2)\n",
    "    X_tr.append(temp)    \n",
    "    Y_tr.append(train_df[train_df['ImageName'] == img_id]['Class'].values[0])  \n",
    "X_tr = np.asarray(X_tr)\n",
    "X_tr = X_tr.astype('float32')\n",
    "X_tr /= 255\n",
    "Y_tr = np.asarray(Y_tr)"
   ]
  },
  {
   "cell_type": "code",
   "execution_count": 21,
   "id": "18dc1418-7349-4996-a339-5f04cac8ec13",
   "metadata": {},
   "outputs": [
    {
     "name": "stdout",
     "output_type": "stream",
     "text": [
      "(11847, 100, 100, 1)\n",
      "(11847,)\n",
      "(3950, 100, 100, 1)\n",
      "(3950,)\n"
     ]
    }
   ],
   "source": [
    "X_train, X_test, y_train, y_test = train_test_split(X_tr, Y_tr, random_state = 0, shuffle=True) #use Y or dummy_y\n",
    "print(X_train.shape)\n",
    "print(y_train.shape)\n",
    "print(X_test.shape)\n",
    "print(y_test.shape)"
   ]
  },
  {
   "cell_type": "code",
   "execution_count": 22,
   "id": "57e92d49-0f63-4fc5-8c6e-30ba6ae70083",
   "metadata": {},
   "outputs": [],
   "source": [
    "batch_size = 32\n",
    "nb_epoch = 100"
   ]
  },
  {
   "cell_type": "code",
   "execution_count": 23,
   "id": "56d4b990-97d9-472c-9547-cb0a550670f2",
   "metadata": {},
   "outputs": [
    {
     "name": "stdout",
     "output_type": "stream",
     "text": [
      "Epoch 1/100\n",
      "297/297 - 42s - loss: 2.5698 - accuracy: 0.2245 - val_loss: 2.5958 - val_accuracy: 0.2401 - 42s/epoch - 142ms/step\n",
      "Epoch 2/100\n",
      "297/297 - 42s - loss: 2.3846 - accuracy: 0.2652 - val_loss: 2.3444 - val_accuracy: 0.2401 - 42s/epoch - 141ms/step\n",
      "Epoch 3/100\n",
      "297/297 - 42s - loss: 2.2015 - accuracy: 0.2778 - val_loss: 2.1026 - val_accuracy: 0.4768 - 42s/epoch - 141ms/step\n",
      "Epoch 4/100\n",
      "297/297 - 41s - loss: 2.0981 - accuracy: 0.2965 - val_loss: 2.0311 - val_accuracy: 0.2743 - 41s/epoch - 138ms/step\n",
      "Epoch 5/100\n",
      "297/297 - 42s - loss: 2.0617 - accuracy: 0.3048 - val_loss: 1.9941 - val_accuracy: 0.3055 - 42s/epoch - 141ms/step\n",
      "Epoch 6/100\n",
      "297/297 - 41s - loss: 2.0334 - accuracy: 0.3144 - val_loss: 1.9652 - val_accuracy: 0.3473 - 41s/epoch - 138ms/step\n",
      "Epoch 7/100\n",
      "297/297 - 42s - loss: 2.0059 - accuracy: 0.3311 - val_loss: 1.9378 - val_accuracy: 0.4688 - 42s/epoch - 142ms/step\n",
      "Epoch 8/100\n",
      "297/297 - 42s - loss: 1.9771 - accuracy: 0.3500 - val_loss: 1.9111 - val_accuracy: 0.4793 - 42s/epoch - 141ms/step\n",
      "Epoch 9/100\n",
      "297/297 - 42s - loss: 1.9528 - accuracy: 0.3684 - val_loss: 1.8846 - val_accuracy: 0.4781 - 42s/epoch - 142ms/step\n",
      "Epoch 10/100\n",
      "297/297 - 43s - loss: 1.9248 - accuracy: 0.3804 - val_loss: 1.8580 - val_accuracy: 0.4781 - 43s/epoch - 143ms/step\n",
      "Epoch 11/100\n",
      "297/297 - 42s - loss: 1.8986 - accuracy: 0.4037 - val_loss: 1.8308 - val_accuracy: 0.4992 - 42s/epoch - 140ms/step\n",
      "Epoch 12/100\n",
      "297/297 - 42s - loss: 1.8748 - accuracy: 0.4108 - val_loss: 1.8041 - val_accuracy: 0.5224 - 42s/epoch - 143ms/step\n",
      "Epoch 13/100\n",
      "297/297 - 42s - loss: 1.8448 - accuracy: 0.4262 - val_loss: 1.7767 - val_accuracy: 0.5300 - 42s/epoch - 140ms/step\n",
      "Epoch 14/100\n",
      "297/297 - 43s - loss: 1.8169 - accuracy: 0.4399 - val_loss: 1.7498 - val_accuracy: 0.5300 - 43s/epoch - 144ms/step\n",
      "Epoch 15/100\n",
      "297/297 - 43s - loss: 1.7866 - accuracy: 0.4434 - val_loss: 1.7225 - val_accuracy: 0.5371 - 43s/epoch - 144ms/step\n",
      "Epoch 16/100\n",
      "297/297 - 45s - loss: 1.7717 - accuracy: 0.4502 - val_loss: 1.6964 - val_accuracy: 0.5359 - 45s/epoch - 150ms/step\n",
      "Epoch 17/100\n",
      "297/297 - 43s - loss: 1.7380 - accuracy: 0.4617 - val_loss: 1.6688 - val_accuracy: 0.5350 - 43s/epoch - 145ms/step\n",
      "Epoch 18/100\n",
      "297/297 - 42s - loss: 1.7044 - accuracy: 0.4603 - val_loss: 1.6418 - val_accuracy: 0.5367 - 42s/epoch - 142ms/step\n",
      "Epoch 19/100\n",
      "297/297 - 43s - loss: 1.6790 - accuracy: 0.4737 - val_loss: 1.6143 - val_accuracy: 0.5418 - 43s/epoch - 145ms/step\n",
      "Epoch 20/100\n",
      "297/297 - 43s - loss: 1.6545 - accuracy: 0.4867 - val_loss: 1.5871 - val_accuracy: 0.5447 - 43s/epoch - 144ms/step\n",
      "Epoch 21/100\n",
      "297/297 - 43s - loss: 1.6247 - accuracy: 0.4834 - val_loss: 1.5589 - val_accuracy: 0.5464 - 43s/epoch - 146ms/step\n",
      "Epoch 22/100\n",
      "297/297 - 43s - loss: 1.5997 - accuracy: 0.4937 - val_loss: 1.5327 - val_accuracy: 0.5464 - 43s/epoch - 146ms/step\n",
      "Epoch 23/100\n",
      "297/297 - 42s - loss: 1.5741 - accuracy: 0.4928 - val_loss: 1.5056 - val_accuracy: 0.5481 - 42s/epoch - 142ms/step\n",
      "Epoch 24/100\n",
      "297/297 - 43s - loss: 1.5458 - accuracy: 0.5041 - val_loss: 1.4795 - val_accuracy: 0.5603 - 43s/epoch - 145ms/step\n",
      "Epoch 25/100\n",
      "297/297 - 43s - loss: 1.5254 - accuracy: 0.5145 - val_loss: 1.4538 - val_accuracy: 0.5738 - 43s/epoch - 143ms/step\n",
      "Epoch 26/100\n",
      "297/297 - 43s - loss: 1.4909 - accuracy: 0.5194 - val_loss: 1.4297 - val_accuracy: 0.5835 - 43s/epoch - 143ms/step\n",
      "Epoch 27/100\n",
      "297/297 - 43s - loss: 1.4665 - accuracy: 0.5279 - val_loss: 1.4057 - val_accuracy: 0.5882 - 43s/epoch - 144ms/step\n",
      "Epoch 28/100\n",
      "297/297 - 43s - loss: 1.4507 - accuracy: 0.5392 - val_loss: 1.3832 - val_accuracy: 0.5928 - 43s/epoch - 144ms/step\n",
      "Epoch 29/100\n",
      "297/297 - 43s - loss: 1.4197 - accuracy: 0.5431 - val_loss: 1.3619 - val_accuracy: 0.5958 - 43s/epoch - 144ms/step\n",
      "Epoch 30/100\n",
      "297/297 - 42s - loss: 1.4053 - accuracy: 0.5464 - val_loss: 1.3425 - val_accuracy: 0.5992 - 42s/epoch - 142ms/step\n",
      "Epoch 31/100\n",
      "297/297 - 43s - loss: 1.3835 - accuracy: 0.5556 - val_loss: 1.3247 - val_accuracy: 0.5983 - 43s/epoch - 145ms/step\n",
      "Epoch 32/100\n",
      "297/297 - 43s - loss: 1.3621 - accuracy: 0.5561 - val_loss: 1.3075 - val_accuracy: 0.6008 - 43s/epoch - 146ms/step\n",
      "Epoch 33/100\n",
      "297/297 - 42s - loss: 1.3453 - accuracy: 0.5587 - val_loss: 1.2915 - val_accuracy: 0.6000 - 42s/epoch - 142ms/step\n",
      "Epoch 34/100\n",
      "297/297 - 43s - loss: 1.3343 - accuracy: 0.5678 - val_loss: 1.2782 - val_accuracy: 0.6017 - 43s/epoch - 144ms/step\n",
      "Epoch 35/100\n",
      "297/297 - 42s - loss: 1.3238 - accuracy: 0.5647 - val_loss: 1.2656 - val_accuracy: 0.6059 - 42s/epoch - 142ms/step\n",
      "Epoch 36/100\n",
      "297/297 - 44s - loss: 1.3096 - accuracy: 0.5693 - val_loss: 1.2542 - val_accuracy: 0.6059 - 44s/epoch - 147ms/step\n",
      "Epoch 37/100\n",
      "297/297 - 52s - loss: 1.3026 - accuracy: 0.5706 - val_loss: 1.2442 - val_accuracy: 0.6055 - 52s/epoch - 175ms/step\n",
      "Epoch 38/100\n",
      "297/297 - 53s - loss: 1.2910 - accuracy: 0.5758 - val_loss: 1.2345 - val_accuracy: 0.6072 - 53s/epoch - 178ms/step\n",
      "Epoch 39/100\n",
      "297/297 - 53s - loss: 1.2808 - accuracy: 0.5723 - val_loss: 1.2260 - val_accuracy: 0.6080 - 53s/epoch - 178ms/step\n",
      "Epoch 40/100\n",
      "297/297 - 50s - loss: 1.2682 - accuracy: 0.5709 - val_loss: 1.2181 - val_accuracy: 0.6072 - 50s/epoch - 169ms/step\n",
      "Epoch 41/100\n",
      "297/297 - 54s - loss: 1.2614 - accuracy: 0.5743 - val_loss: 1.2105 - val_accuracy: 0.6080 - 54s/epoch - 182ms/step\n",
      "Epoch 42/100\n",
      "297/297 - 50s - loss: 1.2517 - accuracy: 0.5834 - val_loss: 1.2036 - val_accuracy: 0.6093 - 50s/epoch - 169ms/step\n",
      "Epoch 43/100\n",
      "297/297 - 45s - loss: 1.2447 - accuracy: 0.5806 - val_loss: 1.1980 - val_accuracy: 0.6127 - 45s/epoch - 153ms/step\n",
      "Epoch 44/100\n",
      "297/297 - 44s - loss: 1.2388 - accuracy: 0.5807 - val_loss: 1.1918 - val_accuracy: 0.6127 - 44s/epoch - 148ms/step\n",
      "Epoch 45/100\n",
      "297/297 - 44s - loss: 1.2352 - accuracy: 0.5830 - val_loss: 1.1858 - val_accuracy: 0.6139 - 44s/epoch - 149ms/step\n",
      "Epoch 46/100\n",
      "297/297 - 43s - loss: 1.2277 - accuracy: 0.5835 - val_loss: 1.1808 - val_accuracy: 0.6135 - 43s/epoch - 146ms/step\n",
      "Epoch 47/100\n",
      "297/297 - 43s - loss: 1.2267 - accuracy: 0.5809 - val_loss: 1.1756 - val_accuracy: 0.6148 - 43s/epoch - 146ms/step\n",
      "Epoch 48/100\n",
      "297/297 - 44s - loss: 1.2157 - accuracy: 0.5844 - val_loss: 1.1709 - val_accuracy: 0.6156 - 44s/epoch - 147ms/step\n",
      "Epoch 49/100\n",
      "297/297 - 43s - loss: 1.2181 - accuracy: 0.5818 - val_loss: 1.1669 - val_accuracy: 0.6156 - 43s/epoch - 146ms/step\n",
      "Epoch 50/100\n",
      "297/297 - 44s - loss: 1.2182 - accuracy: 0.5852 - val_loss: 1.1628 - val_accuracy: 0.6160 - 44s/epoch - 147ms/step\n",
      "Epoch 51/100\n",
      "297/297 - 44s - loss: 1.2044 - accuracy: 0.5853 - val_loss: 1.1589 - val_accuracy: 0.6152 - 44s/epoch - 148ms/step\n",
      "Epoch 52/100\n",
      "297/297 - 46s - loss: 1.2027 - accuracy: 0.5886 - val_loss: 1.1557 - val_accuracy: 0.6152 - 46s/epoch - 154ms/step\n",
      "Epoch 53/100\n",
      "297/297 - 45s - loss: 1.1924 - accuracy: 0.5925 - val_loss: 1.1519 - val_accuracy: 0.6190 - 45s/epoch - 152ms/step\n",
      "Epoch 54/100\n",
      "297/297 - 44s - loss: 1.1969 - accuracy: 0.5920 - val_loss: 1.1488 - val_accuracy: 0.6160 - 44s/epoch - 147ms/step\n",
      "Epoch 55/100\n",
      "297/297 - 45s - loss: 1.1958 - accuracy: 0.5875 - val_loss: 1.1457 - val_accuracy: 0.6173 - 45s/epoch - 150ms/step\n",
      "Epoch 56/100\n",
      "297/297 - 46s - loss: 1.1920 - accuracy: 0.5927 - val_loss: 1.1428 - val_accuracy: 0.6194 - 46s/epoch - 155ms/step\n",
      "Epoch 57/100\n",
      "297/297 - 44s - loss: 1.1866 - accuracy: 0.5898 - val_loss: 1.1401 - val_accuracy: 0.6194 - 44s/epoch - 148ms/step\n",
      "Epoch 58/100\n",
      "297/297 - 45s - loss: 1.1829 - accuracy: 0.5935 - val_loss: 1.1374 - val_accuracy: 0.6177 - 45s/epoch - 150ms/step\n",
      "Epoch 59/100\n",
      "297/297 - 44s - loss: 1.1768 - accuracy: 0.5954 - val_loss: 1.1348 - val_accuracy: 0.6194 - 44s/epoch - 147ms/step\n",
      "Epoch 60/100\n",
      "297/297 - 45s - loss: 1.1806 - accuracy: 0.5952 - val_loss: 1.1334 - val_accuracy: 0.6186 - 45s/epoch - 150ms/step\n",
      "Epoch 61/100\n",
      "297/297 - 45s - loss: 1.1786 - accuracy: 0.5915 - val_loss: 1.1298 - val_accuracy: 0.6198 - 45s/epoch - 150ms/step\n",
      "Epoch 62/100\n",
      "297/297 - 44s - loss: 1.1754 - accuracy: 0.5921 - val_loss: 1.1277 - val_accuracy: 0.6198 - 44s/epoch - 149ms/step\n",
      "Epoch 63/100\n",
      "297/297 - 45s - loss: 1.1661 - accuracy: 0.5989 - val_loss: 1.1260 - val_accuracy: 0.6211 - 45s/epoch - 151ms/step\n",
      "Epoch 64/100\n",
      "297/297 - 44s - loss: 1.1686 - accuracy: 0.5969 - val_loss: 1.1236 - val_accuracy: 0.6219 - 44s/epoch - 147ms/step\n",
      "Epoch 65/100\n",
      "297/297 - 44s - loss: 1.1610 - accuracy: 0.5963 - val_loss: 1.1210 - val_accuracy: 0.6207 - 44s/epoch - 149ms/step\n",
      "Epoch 66/100\n",
      "297/297 - 44s - loss: 1.1582 - accuracy: 0.5991 - val_loss: 1.1191 - val_accuracy: 0.6215 - 44s/epoch - 148ms/step\n",
      "Epoch 67/100\n",
      "297/297 - 43s - loss: 1.1624 - accuracy: 0.5955 - val_loss: 1.1173 - val_accuracy: 0.6224 - 43s/epoch - 146ms/step\n",
      "Epoch 68/100\n",
      "297/297 - 44s - loss: 1.1548 - accuracy: 0.5968 - val_loss: 1.1158 - val_accuracy: 0.6215 - 44s/epoch - 148ms/step\n",
      "Epoch 69/100\n",
      "297/297 - 43s - loss: 1.1585 - accuracy: 0.5977 - val_loss: 1.1146 - val_accuracy: 0.6215 - 43s/epoch - 145ms/step\n",
      "Epoch 70/100\n",
      "297/297 - 44s - loss: 1.1587 - accuracy: 0.5982 - val_loss: 1.1122 - val_accuracy: 0.6219 - 44s/epoch - 148ms/step\n",
      "Epoch 71/100\n",
      "297/297 - 44s - loss: 1.1578 - accuracy: 0.5998 - val_loss: 1.1107 - val_accuracy: 0.6219 - 44s/epoch - 147ms/step\n",
      "Epoch 72/100\n",
      "297/297 - 44s - loss: 1.1544 - accuracy: 0.6000 - val_loss: 1.1091 - val_accuracy: 0.6219 - 44s/epoch - 147ms/step\n",
      "Epoch 73/100\n",
      "297/297 - 44s - loss: 1.1505 - accuracy: 0.6009 - val_loss: 1.1071 - val_accuracy: 0.6215 - 44s/epoch - 149ms/step\n",
      "Epoch 74/100\n",
      "297/297 - 44s - loss: 1.1502 - accuracy: 0.6027 - val_loss: 1.1061 - val_accuracy: 0.6241 - 44s/epoch - 147ms/step\n",
      "Epoch 75/100\n",
      "297/297 - 45s - loss: 1.1472 - accuracy: 0.6004 - val_loss: 1.1046 - val_accuracy: 0.6241 - 45s/epoch - 150ms/step\n",
      "Epoch 76/100\n",
      "297/297 - 45s - loss: 1.1537 - accuracy: 0.5991 - val_loss: 1.1032 - val_accuracy: 0.6215 - 45s/epoch - 152ms/step\n",
      "Epoch 77/100\n",
      "297/297 - 45s - loss: 1.1378 - accuracy: 0.6021 - val_loss: 1.1012 - val_accuracy: 0.6228 - 45s/epoch - 151ms/step\n",
      "Epoch 78/100\n",
      "297/297 - 45s - loss: 1.1470 - accuracy: 0.5996 - val_loss: 1.1000 - val_accuracy: 0.6236 - 45s/epoch - 151ms/step\n",
      "Epoch 79/100\n",
      "297/297 - 47s - loss: 1.1434 - accuracy: 0.5971 - val_loss: 1.0983 - val_accuracy: 0.6228 - 47s/epoch - 159ms/step\n",
      "Epoch 80/100\n",
      "297/297 - 45s - loss: 1.1360 - accuracy: 0.6022 - val_loss: 1.0971 - val_accuracy: 0.6228 - 45s/epoch - 150ms/step\n",
      "Epoch 81/100\n",
      "297/297 - 45s - loss: 1.1366 - accuracy: 0.6055 - val_loss: 1.0962 - val_accuracy: 0.6266 - 45s/epoch - 151ms/step\n",
      "Epoch 82/100\n",
      "297/297 - 43s - loss: 1.1397 - accuracy: 0.6049 - val_loss: 1.0946 - val_accuracy: 0.6219 - 43s/epoch - 146ms/step\n",
      "Epoch 83/100\n",
      "297/297 - 44s - loss: 1.1419 - accuracy: 0.6048 - val_loss: 1.0941 - val_accuracy: 0.6228 - 44s/epoch - 148ms/step\n",
      "Epoch 84/100\n",
      "297/297 - 43s - loss: 1.1364 - accuracy: 0.6017 - val_loss: 1.0925 - val_accuracy: 0.6219 - 43s/epoch - 146ms/step\n",
      "Epoch 85/100\n",
      "297/297 - 44s - loss: 1.1284 - accuracy: 0.6076 - val_loss: 1.0909 - val_accuracy: 0.6241 - 44s/epoch - 149ms/step\n",
      "Epoch 86/100\n",
      "297/297 - 45s - loss: 1.1389 - accuracy: 0.6040 - val_loss: 1.0895 - val_accuracy: 0.6270 - 45s/epoch - 150ms/step\n",
      "Epoch 87/100\n",
      "297/297 - 44s - loss: 1.1294 - accuracy: 0.6005 - val_loss: 1.0883 - val_accuracy: 0.6253 - 44s/epoch - 149ms/step\n",
      "Epoch 88/100\n",
      "297/297 - 45s - loss: 1.1236 - accuracy: 0.6074 - val_loss: 1.0870 - val_accuracy: 0.6257 - 45s/epoch - 150ms/step\n",
      "Epoch 89/100\n",
      "297/297 - 43s - loss: 1.1305 - accuracy: 0.6047 - val_loss: 1.0870 - val_accuracy: 0.6257 - 43s/epoch - 146ms/step\n",
      "Epoch 90/100\n",
      "297/297 - 43s - loss: 1.1322 - accuracy: 0.6056 - val_loss: 1.0852 - val_accuracy: 0.6253 - 43s/epoch - 145ms/step\n",
      "Epoch 91/100\n",
      "297/297 - 44s - loss: 1.1246 - accuracy: 0.6067 - val_loss: 1.0844 - val_accuracy: 0.6241 - 44s/epoch - 149ms/step\n",
      "Epoch 92/100\n",
      "297/297 - 45s - loss: 1.1213 - accuracy: 0.6025 - val_loss: 1.0828 - val_accuracy: 0.6262 - 45s/epoch - 153ms/step\n",
      "Epoch 93/100\n",
      "297/297 - 45s - loss: 1.1198 - accuracy: 0.6066 - val_loss: 1.0816 - val_accuracy: 0.6249 - 45s/epoch - 151ms/step\n",
      "Epoch 94/100\n",
      "297/297 - 45s - loss: 1.1259 - accuracy: 0.6035 - val_loss: 1.0805 - val_accuracy: 0.6266 - 45s/epoch - 152ms/step\n",
      "Epoch 95/100\n",
      "297/297 - 45s - loss: 1.1203 - accuracy: 0.6062 - val_loss: 1.0794 - val_accuracy: 0.6257 - 45s/epoch - 150ms/step\n",
      "Epoch 96/100\n",
      "297/297 - 45s - loss: 1.1161 - accuracy: 0.6084 - val_loss: 1.0783 - val_accuracy: 0.6257 - 45s/epoch - 153ms/step\n",
      "Epoch 97/100\n",
      "297/297 - 46s - loss: 1.1205 - accuracy: 0.6064 - val_loss: 1.0785 - val_accuracy: 0.6249 - 46s/epoch - 154ms/step\n",
      "Epoch 98/100\n",
      "297/297 - 45s - loss: 1.1177 - accuracy: 0.6037 - val_loss: 1.0778 - val_accuracy: 0.6274 - 45s/epoch - 151ms/step\n",
      "Epoch 99/100\n",
      "297/297 - 45s - loss: 1.1179 - accuracy: 0.6107 - val_loss: 1.0753 - val_accuracy: 0.6270 - 45s/epoch - 151ms/step\n",
      "Epoch 100/100\n",
      "297/297 - 45s - loss: 1.1115 - accuracy: 0.6075 - val_loss: 1.0748 - val_accuracy: 0.6274 - 45s/epoch - 150ms/step\n",
      "CPU times: total: 7h 14min 24s\n",
      "Wall time: 1h 13min 35s\n"
     ]
    }
   ],
   "source": [
    "%%time\n",
    "# Train model\n",
    "history = model.fit(X_train, y_train,\n",
    "              batch_size=batch_size,\n",
    "              epochs=nb_epoch,\n",
    "              validation_split=0.2,\n",
    "              shuffle=True,\n",
    "              verbose=2)"
   ]
  },
  {
   "cell_type": "code",
   "execution_count": 24,
   "id": "c86dee3f-e134-4c8e-b983-902e89a16c01",
   "metadata": {},
   "outputs": [
    {
     "data": {
      "text/plain": [
       "<AxesSubplot:>"
      ]
     },
     "execution_count": 24,
     "metadata": {},
     "output_type": "execute_result"
    },
    {
     "data": {
      "image/png": "[encoded data removed]",
      "text/plain": [
       "<Figure size 432x288 with 1 Axes>"
      ]
     },
     "metadata": {
      "needs_background": "light"
     },
     "output_type": "display_data"
    },
    {
     "data": {
      "image/png": "[encoded data removed]",
      "text/plain": [
       "<Figure size 432x288 with 1 Axes>"
      ]
     },
     "metadata": {
      "needs_background": "light"
     },
     "output_type": "display_data"
    }
   ],
   "source": [
    "with open('history.json', 'w') as f:\n",
    "    json.dump(history.history, f)\n",
    "\n",
    "history_df = pd.DataFrame(history.history)\n",
    "history_df[['loss', 'val_loss']].plot()\n",
    "history_df[['accuracy', 'val_accuracy']].plot()"
   ]
  },
  {
   "cell_type": "code",
   "execution_count": 25,
   "id": "e47d819b-2983-47cc-82be-ccba8755e7ce",
   "metadata": {},
   "outputs": [],
   "source": [
    "y_pred = model.predict(X_test)"
   ]
  },
  {
   "cell_type": "code",
   "execution_count": 26,
   "id": "10f2f094-d567-4472-80e8-9b82eee8f74f",
   "metadata": {},
   "outputs": [
    {
     "data": {
      "text/plain": [
       "array([[ 88,   0,   0,   0,   0,   0,   0,   0,   0,   0,  98,   8,   0,\n",
       "         43],\n",
       "       [  0,   0,   0,  41,   0,   0,   0,   0,   0,   0,   0,   0,   7,\n",
       "          0],\n",
       "       [  0,   0,   0,   4,   0,   0,   0,   0,   0,   0,   0,   0,  42,\n",
       "          0],\n",
       "       [  0,   0,   0, 356,   0,   0,   0,   0,   0,   0,   0,   0, 466,\n",
       "          0],\n",
       "       [  0,   0,   0,  31,   0,   0,   0,   0,   0,   0,   0,   0,  24,\n",
       "          0],\n",
       "       [  1,   0,   0,   2,   0,   0,   0,   0,   0,   0, 101,   1,   0,\n",
       "          0],\n",
       "       [  9,   0,   0,   0,   0,   0,   0,   0,   0,   0,  14,   0,   0,\n",
       "          0],\n",
       "       [  0,   0,   0,   0,   0,   0,   0,   0,   0,   0,  24,   0,   0,\n",
       "          0],\n",
       "       [  0,   0,   0,  21,   0,   0,   0,   0,   0,   0,   0,   0,  13,\n",
       "          0],\n",
       "       [  3,   0,   0,   0,   0,   0,   0,   0,   0,   0, 239,   0,   0,\n",
       "          1],\n",
       "       [  0,   0,   0,   4,   0,   0,   0,   0,   0,   0, 899,   0,  27,\n",
       "          0],\n",
       "       [  1,   0,   0,   0,   0,   0,   0,   0,   0,   0,   4,  50,   0,\n",
       "        103],\n",
       "       [  0,   0,   0,  76,   0,   0,   0,   0,   0,   0,   2,   0, 883,\n",
       "          1],\n",
       "       [ 28,   0,   0,   0,   0,   0,   0,   0,   0,   0,  31,  26,   1,\n",
       "        177]], dtype=int64)"
      ]
     },
     "execution_count": 26,
     "metadata": {},
     "output_type": "execute_result"
    }
   ],
   "source": [
    "cm = confusion_matrix(y_test, y_pred.argmax(axis=1))\n",
    "cm"
   ]
  },
  {
   "cell_type": "code",
   "execution_count": 27,
   "id": "279744d2-7127-464a-9cbc-0a7270828764",
   "metadata": {},
   "outputs": [
    {
     "name": "stdout",
     "output_type": "stream",
     "text": [
      "              precision    recall  f1-score   support\n",
      "\n",
      "           0       0.68      0.37      0.48       237\n",
      "           1       0.00      0.00      0.00        48\n",
      "           2       0.00      0.00      0.00        46\n",
      "           3       0.67      0.43      0.52       822\n",
      "           4       0.00      0.00      0.00        55\n",
      "           5       0.00      0.00      0.00       105\n",
      "           6       0.00      0.00      0.00        23\n",
      "           7       0.00      0.00      0.00        24\n",
      "           8       0.00      0.00      0.00        34\n",
      "           9       0.00      0.00      0.00       243\n",
      "          10       0.64      0.97      0.77       930\n",
      "          11       0.59      0.32      0.41       158\n",
      "          12       0.60      0.92      0.73       962\n",
      "          13       0.54      0.67      0.60       263\n",
      "\n",
      "    accuracy                           0.62      3950\n",
      "   macro avg       0.27      0.26      0.25      3950\n",
      "weighted avg       0.54      0.62      0.55      3950\n",
      "\n"
     ]
    },
    {
     "name": "stderr",
     "output_type": "stream",
     "text": [
      "C:\\Users\\Razaq\\AppData\\Local\\Programs\\Python\\Python310\\lib\\site-packages\\sklearn\\metrics\\_classification.py:1327: UndefinedMetricWarning: Precision and F-score are ill-defined and being set to 0.0 in labels with no predicted samples. Use `zero_division` parameter to control this behavior.\n",
      "  _warn_prf(average, modifier, msg_start, len(result))\n",
      "C:\\Users\\Razaq\\AppData\\Local\\Programs\\Python\\Python310\\lib\\site-packages\\sklearn\\metrics\\_classification.py:1327: UndefinedMetricWarning: Precision and F-score are ill-defined and being set to 0.0 in labels with no predicted samples. Use `zero_division` parameter to control this behavior.\n",
      "  _warn_prf(average, modifier, msg_start, len(result))\n",
      "C:\\Users\\Razaq\\AppData\\Local\\Programs\\Python\\Python310\\lib\\site-packages\\sklearn\\metrics\\_classification.py:1327: UndefinedMetricWarning: Precision and F-score are ill-defined and being set to 0.0 in labels with no predicted samples. Use `zero_division` parameter to control this behavior.\n",
      "  _warn_prf(average, modifier, msg_start, len(result))\n"
     ]
    }
   ],
   "source": [
    "\n",
    "from sklearn.metrics import classification_report\n",
    "print(classification_report(y_test, y_pred.argmax(axis=1)))"
   ]
  },
  {
   "cell_type": "code",
   "execution_count": 28,
   "id": "eb207c11-279c-4f6b-b720-550fc191c596",
   "metadata": {},
   "outputs": [
    {
     "data": {
      "text/plain": [
       "<AxesSubplot:>"
      ]
     },
     "execution_count": 28,
     "metadata": {},
     "output_type": "execute_result"
    },
    {
     "data": {
      "image/png": "[encoded data removed]",
      "text/plain": [
       "<Figure size 432x288 with 2 Axes>"
      ]
     },
     "metadata": {
      "needs_background": "light"
     },
     "output_type": "display_data"
    }
   ],
   "source": [
    "import seaborn as sns\n",
    "sns.heatmap(cm,annot=True, cmap='Blues', fmt='g')"
   ]
  },
  {
   "cell_type": "code",
   "execution_count": null,
   "id": "ba81f0da-4289-494b-9830-4575f9cea5c8",
   "metadata": {},
   "outputs": [],
   "source": []
  }
 ],
 "metadata": {
  "kernelspec": {
   "display_name": "Python 3 (ipykernel)",
   "language": "python",
   "name": "python3"
  },
  "language_info": {
   "codemirror_mode": {
    "name": "ipython",
    "version": 3
   },
   "file_extension": ".py",
   "mimetype": "text/x-python",
   "name": "python",
   "nbconvert_exporter": "python",
   "pygments_lexer": "ipython3",
   "version": "3.10.4"
  }
 },
 "nbformat": 4,
 "nbformat_minor": 5
}
