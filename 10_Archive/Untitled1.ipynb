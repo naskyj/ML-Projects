{
 "cells": [
  {
   "cell_type": "code",
   "execution_count": 1,
   "id": "4fe0e5c6-ee94-486d-948b-ef91897a9d26",
   "metadata": {},
   "outputs": [],
   "source": [
    "import os\n",
    "import pickle\n",
    "import shutil\n",
    "import warnings\n",
    "import random as r\n",
    "import numpy as np\n",
    "import pandas as pd\n",
    "import seaborn as sns\n",
    "\n",
    "# Matplotlib Imports\n",
    "import matplotlib  \n",
    "import matplotlib.pyplot as plt\n",
    "matplotlib.use(u'nbAgg')\n",
    "%matplotlib inline\n",
    "\n",
    "import multiprocessing\n",
    "from multiprocessing import Process\n",
    "\n",
    "# This is used for file operations\n",
    "import codecs  "
   ]
  },
  {
   "cell_type": "code",
   "execution_count": 2,
   "id": "346805bf-753d-40ac-96d0-615b5bd57fa6",
   "metadata": {},
   "outputs": [
    {
     "name": "stdout",
     "output_type": "stream",
     "text": [
      "true\n"
     ]
    }
   ],
   "source": [
    "df1 = pd.read_csv(\"file_byte.csv\", sep=\",\", index_col=False)\n",
    "df2 = pd.read_csv(\"file_section.csv\", sep=\",\", index_col=False)\n",
    "\n",
    "if 'Class' in df1.columns:\n",
    "    print('true')\n",
    "    \n",
    "if 'Class' in df2.columns:\n",
    "    df2 = df2.drop('Class', axis=1)\n",
    "    \n",
    "\n",
    "\n",
    "new_df = pd.concat([df1.reset_index(drop=True), df2.reset_index(drop=True)], axis=1)"
   ]
  },
  {
   "cell_type": "code",
   "execution_count": 3,
   "id": "832c9bd6-fca4-4d81-bad8-932f5f54f934",
   "metadata": {},
   "outputs": [],
   "source": [
    "df3 =  pd.read_csv(\"file_opcode.csv\", sep=\",\", index_col=False)\n",
    "\n",
    "if 'Class' in df3.columns:\n",
    "    df3 = df3.drop('Class', axis=1)\n",
    "\n",
    "final_df = pd.concat([new_df.reset_index(drop=True), df3.reset_index(drop=True)], axis=1)\n",
    "\n",
    "final_df.fillna(0, inplace=True, downcast='infer')"
   ]
  },
  {
   "cell_type": "code",
   "execution_count": 4,
   "id": "b426ee06-9fdf-45e2-bd5b-3a19ceb180db",
   "metadata": {},
   "outputs": [],
   "source": [
    "def normalize(df):\n",
    "    result1 = df.copy()\n",
    "    for feature_name in df.columns:\n",
    "        if (str(feature_name) != str('ID') and str(feature_name)!=str('Class')):\n",
    "            max_value = df[feature_name].max()\n",
    "            min_value = df[feature_name].min()\n",
    "            result1[feature_name] = (df[feature_name] - min_value) / (max_value - min_value)\n",
    "    return result1\n",
    "result = normalize(final_df)"
   ]
  },
  {
   "cell_type": "code",
   "execution_count": 5,
   "id": "c1d8e496-7dd0-413e-a209-12a36b8dcc35",
   "metadata": {},
   "outputs": [],
   "source": [
    "from keras.models import Sequential\n",
    "from keras.layers import Dense, Dropout\n",
    "\n",
    "from tensorflow.keras.optimizers import Adam, Adadelta, RMSprop"
   ]
  },
  {
   "cell_type": "code",
   "execution_count": 27,
   "id": "7bdfa0df-0bbf-4f7e-91f6-36e3d455e06a",
   "metadata": {},
   "outputs": [],
   "source": [
    "# Sklearn Imports\n",
    "from sklearn import preprocessing\n",
    "from sklearn.manifold import TSNE\n",
    "from sklearn.model_selection import RandomizedSearchCV, train_test_split\n",
    "from sklearn.tree import DecisionTreeClassifier\n",
    "from sklearn.calibration import CalibratedClassifierCV\n",
    "from sklearn.neighbors import KNeighborsClassifier\n",
    "from sklearn.metrics import log_loss, confusion_matrix\n",
    "from sklearn.linear_model import LogisticRegression\n",
    "from sklearn.ensemble import RandomForestClassifier\n",
    "from keras.utils.np_utils import to_categorical\n",
    "from mlxtend.plotting import plot_confusion_matrix"
   ]
  },
  {
   "cell_type": "code",
   "execution_count": 7,
   "id": "13c2948f-9ca1-4213-8104-2b25a010e74c",
   "metadata": {},
   "outputs": [],
   "source": [
    "temp_df = result.pop('Class')\n",
    "result['Class'] = temp_df "
   ]
  },
  {
   "cell_type": "code",
   "execution_count": 8,
   "id": "1df8728e-102a-4fbd-a9d4-211b495b00a8",
   "metadata": {},
   "outputs": [],
   "source": [
    "#result = result.drop(['ID'], axis = 1)\n",
    "\n",
    "\n",
    "X = result.iloc[:, :-1]\n",
    "y = result.iloc[:, -1]"
   ]
  },
  {
   "cell_type": "code",
   "execution_count": 9,
   "id": "9e05abed-c09b-4648-93d8-09d42f6402ee",
   "metadata": {},
   "outputs": [],
   "source": [
    "cat_y = to_categorical(y)"
   ]
  },
  {
   "cell_type": "code",
   "execution_count": 10,
   "id": "18a633c2-cdf0-47ca-ac21-1014a839c536",
   "metadata": {},
   "outputs": [
    {
     "name": "stdout",
     "output_type": "stream",
     "text": [
      "(3500, 7107)\n",
      "(3500, 10)\n",
      "(1500, 7107)\n",
      "(1500, 10)\n"
     ]
    }
   ],
   "source": [
    "X_train, X_test, y_train, y_test = train_test_split(X, cat_y, test_size=0.30)\n",
    "print(X_train.shape)\n",
    "print(y_train.shape)\n",
    "print(X_test.shape)\n",
    "print(y_test.shape)"
   ]
  },
  {
   "cell_type": "code",
   "execution_count": 11,
   "id": "bbaa3dc8-f850-4ce4-9012-af6ca4987066",
   "metadata": {},
   "outputs": [
    {
     "name": "stderr",
     "output_type": "stream",
     "text": [
      "C:\\Users\\Razaq\\AppData\\Local\\Programs\\Python\\Python310\\lib\\site-packages\\keras\\optimizer_v2\\adam.py:105: UserWarning: The `lr` argument is deprecated, use `learning_rate` instead.\n",
      "  super(Adam, self).__init__(name, **kwargs)\n"
     ]
    }
   ],
   "source": [
    "model = Sequential()\n",
    "\n",
    "model.add(Dense(30, input_shape = (7107,), activation = \"relu\"))\n",
    "model.add(Dropout(0.2))\n",
    "model.add(Dense(15, activation = \"relu\"))\n",
    "model.add(Dropout(0.2))\n",
    "model.add(Dense(10, activation = \"softmax\"))\n",
    "\n",
    "model.compile(Adam(lr = 0.01, clipvalue = 0.5), \"categorical_crossentropy\", metrics = [\"accuracy\"])"
   ]
  },
  {
   "cell_type": "markdown",
   "id": "823770bb-91ba-4169-987c-ec2aa75019e1",
   "metadata": {},
   "source": [
    "model.summary()"
   ]
  },
  {
   "cell_type": "code",
   "execution_count": 12,
   "id": "0eccc760-f14d-4fae-b23f-085cef1db075",
   "metadata": {},
   "outputs": [
    {
     "name": "stdout",
     "output_type": "stream",
     "text": [
      "Epoch 1/30\n",
      "35/35 [==============================] - 1s 14ms/step - loss: 1.3597 - accuracy: 0.5523 - val_loss: 0.7046 - val_accuracy: 0.7607\n",
      "Epoch 2/30\n",
      "35/35 [==============================] - 0s 6ms/step - loss: 0.6223 - accuracy: 0.8043 - val_loss: 0.4108 - val_accuracy: 0.9067\n",
      "Epoch 3/30\n",
      "35/35 [==============================] - 0s 6ms/step - loss: 0.4401 - accuracy: 0.8809 - val_loss: 0.3267 - val_accuracy: 0.9340\n",
      "Epoch 4/30\n",
      "35/35 [==============================] - 0s 6ms/step - loss: 0.3278 - accuracy: 0.9154 - val_loss: 0.2807 - val_accuracy: 0.9447\n",
      "Epoch 5/30\n",
      "35/35 [==============================] - 0s 6ms/step - loss: 0.2752 - accuracy: 0.9260 - val_loss: 0.2658 - val_accuracy: 0.9507\n",
      "Epoch 6/30\n",
      "35/35 [==============================] - 0s 7ms/step - loss: 0.2492 - accuracy: 0.9340 - val_loss: 0.2716 - val_accuracy: 0.9487\n",
      "Epoch 7/30\n",
      "35/35 [==============================] - 0s 6ms/step - loss: 0.2346 - accuracy: 0.9360 - val_loss: 0.2861 - val_accuracy: 0.9480\n",
      "Epoch 8/30\n",
      "35/35 [==============================] - 0s 6ms/step - loss: 0.2511 - accuracy: 0.9391 - val_loss: 0.2705 - val_accuracy: 0.9493\n",
      "Epoch 9/30\n",
      "35/35 [==============================] - 0s 6ms/step - loss: 0.2123 - accuracy: 0.9414 - val_loss: 0.2617 - val_accuracy: 0.9520\n",
      "Epoch 10/30\n",
      "35/35 [==============================] - 0s 6ms/step - loss: 0.1966 - accuracy: 0.9429 - val_loss: 0.2613 - val_accuracy: 0.9507\n",
      "Epoch 11/30\n",
      "35/35 [==============================] - 0s 7ms/step - loss: 0.1823 - accuracy: 0.9469 - val_loss: 0.2676 - val_accuracy: 0.9513\n",
      "Epoch 12/30\n",
      "35/35 [==============================] - 0s 6ms/step - loss: 0.1616 - accuracy: 0.9566 - val_loss: 0.2648 - val_accuracy: 0.9547\n",
      "Epoch 13/30\n",
      "35/35 [==============================] - 0s 6ms/step - loss: 0.1691 - accuracy: 0.9523 - val_loss: 0.2781 - val_accuracy: 0.9500\n",
      "Epoch 14/30\n",
      "35/35 [==============================] - 0s 6ms/step - loss: 0.1543 - accuracy: 0.9600 - val_loss: 0.2834 - val_accuracy: 0.9507\n",
      "Epoch 15/30\n",
      "35/35 [==============================] - 0s 7ms/step - loss: 0.1441 - accuracy: 0.9560 - val_loss: 0.2750 - val_accuracy: 0.9527\n",
      "Epoch 16/30\n",
      "35/35 [==============================] - 0s 6ms/step - loss: 0.1382 - accuracy: 0.9620 - val_loss: 0.2979 - val_accuracy: 0.9560\n",
      "Epoch 17/30\n",
      "35/35 [==============================] - 0s 6ms/step - loss: 0.1400 - accuracy: 0.9609 - val_loss: 0.3043 - val_accuracy: 0.9520\n",
      "Epoch 18/30\n",
      "35/35 [==============================] - 0s 6ms/step - loss: 0.1292 - accuracy: 0.9663 - val_loss: 0.2892 - val_accuracy: 0.9533\n",
      "Epoch 19/30\n",
      "35/35 [==============================] - 0s 6ms/step - loss: 0.1223 - accuracy: 0.9626 - val_loss: 0.2967 - val_accuracy: 0.9533\n",
      "Epoch 20/30\n",
      "35/35 [==============================] - 0s 7ms/step - loss: 0.1117 - accuracy: 0.9691 - val_loss: 0.3199 - val_accuracy: 0.9567\n",
      "Epoch 21/30\n",
      "35/35 [==============================] - 0s 6ms/step - loss: 0.1221 - accuracy: 0.9620 - val_loss: 0.3238 - val_accuracy: 0.9560\n",
      "Epoch 22/30\n",
      "35/35 [==============================] - 0s 6ms/step - loss: 0.1102 - accuracy: 0.9660 - val_loss: 0.3290 - val_accuracy: 0.9580\n",
      "Epoch 23/30\n",
      "35/35 [==============================] - 0s 6ms/step - loss: 0.0977 - accuracy: 0.9691 - val_loss: 0.3254 - val_accuracy: 0.9567\n",
      "Epoch 24/30\n",
      "35/35 [==============================] - 0s 6ms/step - loss: 0.1148 - accuracy: 0.9717 - val_loss: 0.3436 - val_accuracy: 0.9573\n",
      "Epoch 25/30\n",
      "35/35 [==============================] - 0s 6ms/step - loss: 0.1286 - accuracy: 0.9683 - val_loss: 0.3495 - val_accuracy: 0.9573\n",
      "Epoch 26/30\n",
      "35/35 [==============================] - 0s 6ms/step - loss: 0.1091 - accuracy: 0.9689 - val_loss: 0.3255 - val_accuracy: 0.9553\n",
      "Epoch 27/30\n",
      "35/35 [==============================] - 0s 6ms/step - loss: 0.1109 - accuracy: 0.9734 - val_loss: 0.3474 - val_accuracy: 0.9620\n",
      "Epoch 28/30\n",
      "35/35 [==============================] - 0s 6ms/step - loss: 0.1195 - accuracy: 0.9709 - val_loss: 0.3915 - val_accuracy: 0.9593\n",
      "Epoch 29/30\n",
      "35/35 [==============================] - 0s 6ms/step - loss: 0.1196 - accuracy: 0.9651 - val_loss: 0.3773 - val_accuracy: 0.9560\n",
      "Epoch 30/30\n",
      "35/35 [==============================] - 0s 6ms/step - loss: 0.0976 - accuracy: 0.9734 - val_loss: 0.3830 - val_accuracy: 0.9587\n"
     ]
    }
   ],
   "source": [
    "history = model.fit(X_train, y_train, batch_size=100, epochs=30,\n",
    "                    validation_data=(X_test, y_test), verbose=1)"
   ]
  },
  {
   "cell_type": "code",
   "execution_count": 28,
   "id": "ef5a9dcf-f56d-44d3-8345-7129cd1af7a3",
   "metadata": {},
   "outputs": [],
   "source": [
    "\n",
    "from sklearn.metrics import confusion_matrix\n",
    "\n",
    "y_pred = model.predict(X_test)\n",
    "y_pred_class = np.argmax(y_pred, axis=1)\n",
    "\n",
    "y_test_class = np.argmax(y_test, axis=1)\n",
    "\n",
    "cm = confusion_matrix(y_test_class, y_pred_class)"
   ]
  },
  {
   "cell_type": "code",
   "execution_count": 29,
   "id": "7713ad60-40fa-49ad-8172-21d36f655428",
   "metadata": {},
   "outputs": [
    {
     "name": "stdout",
     "output_type": "stream",
     "text": [
      "[[185   1   0   0   0   2   1   1   0]\n",
      " [  5 355   0   1   0   2   0   1   2]\n",
      " [  0   0 388   0   0   0   0   0   0]\n",
      " [  3   0   0  76   0   2   0   2   0]\n",
      " [  0   0   0   0   1   1   2   2   0]\n",
      " [  0   0   0   0   0 100   1   1   0]\n",
      " [  1   0   0   0   0   3  60   0   1]\n",
      " [ 16   0   1   0   0   2   1 156   0]\n",
      " [  1   3   1   0   0   2   0   0 117]]\n"
     ]
    }
   ],
   "source": [
    "print(cm)"
   ]
  },
  {
   "cell_type": "code",
   "execution_count": 43,
   "id": "ad1f1dc5-a2af-44f6-a3d0-77b02ca4260b",
   "metadata": {},
   "outputs": [
    {
     "ename": "AttributeError",
     "evalue": "'function' object has no attribute 'subplots_adjust'",
     "output_type": "error",
     "traceback": [
      "\u001b[1;31m---------------------------------------------------------------------------\u001b[0m",
      "\u001b[1;31mAttributeError\u001b[0m                            Traceback (most recent call last)",
      "Input \u001b[1;32mIn [43]\u001b[0m, in \u001b[0;36m<cell line: 6>\u001b[1;34m()\u001b[0m\n\u001b[0;32m      1\u001b[0m fig, ax \u001b[38;5;241m=\u001b[39m plt\u001b[38;5;241m.\u001b[39msubplots(figsize\u001b[38;5;241m=\u001b[39m(\u001b[38;5;241m10\u001b[39m,\u001b[38;5;241m10\u001b[39m))\n\u001b[0;32m      2\u001b[0m plot_confusion_matrix(conf_mat\u001b[38;5;241m=\u001b[39mcm,\n\u001b[0;32m      3\u001b[0m                       show_absolute\u001b[38;5;241m=\u001b[39m\u001b[38;5;28;01mTrue\u001b[39;00m,\n\u001b[0;32m      4\u001b[0m                       show_normed\u001b[38;5;241m=\u001b[39m\u001b[38;5;28;01mTrue\u001b[39;00m,\n\u001b[0;32m      5\u001b[0m                      axis\u001b[38;5;241m=\u001b[39max)\n\u001b[1;32m----> 6\u001b[0m \u001b[43mplt\u001b[49m\u001b[38;5;241;43m.\u001b[39;49m\u001b[43mgcf\u001b[49m\u001b[38;5;241;43m.\u001b[39;49m\u001b[43msubplots_adjust\u001b[49m(left\u001b[38;5;241m=\u001b[39m\u001b[38;5;241m0.15\u001b[39m, bottom\u001b[38;5;241m=\u001b[39m\u001b[38;5;241m0.15\u001b[39m)\n\u001b[0;32m      7\u001b[0m plt\u001b[38;5;241m.\u001b[39msavefig(\u001b[38;5;124m\"\u001b[39m\u001b[38;5;124mconfusion_matrix.png\u001b[39m\u001b[38;5;124m\"\u001b[39m, bbox_inches\u001b[38;5;241m=\u001b[39m\u001b[38;5;124m'\u001b[39m\u001b[38;5;124mtight\u001b[39m\u001b[38;5;124m'\u001b[39m)\n",
      "\u001b[1;31mAttributeError\u001b[0m: 'function' object has no attribute 'subplots_adjust'"
     ]
    },
    {
     "data": {
      "image/png": "[encoded data removed]",
      "text/plain": [
       "<Figure size 720x720 with 1 Axes>"
      ]
     },
     "metadata": {
      "needs_background": "light"
     },
     "output_type": "display_data"
    }
   ],
   "source": [
    "fig, ax = plt.subplots(figsize=(10,10))\n",
    "plot_confusion_matrix(conf_mat=cm,\n",
    "                      show_absolute=True,\n",
    "                      show_normed=True,\n",
    "                     axis=ax)\n",
    "plt.gcf.subplots_adjust(left=0.15, bottom=0.15)\n",
    "plt.savefig(\"confusion_matrix.png\", bbox_inches='tight')"
   ]
  },
  {
   "cell_type": "code",
   "execution_count": 16,
   "id": "79b1779f-73e0-4529-973f-e8f6c722a81b",
   "metadata": {},
   "outputs": [
    {
     "name": "stdout",
     "output_type": "stream",
     "text": [
      "True Positive(TP)  =  [185. 355. 388.  76.   1. 100.  60. 156. 117.]\n",
      "False Positive(FP) =  [26.  4.  2.  1.  0. 14.  5.  7.  3.]\n",
      "True Negative(TN)  =  [1284. 1130. 1110. 1416. 1494. 1384. 1430. 1317. 1373.]\n",
      "False Negative(FN) =  [ 5. 11.  0.  7.  5.  2.  5. 20.  7.]\n",
      "Accuracy of the binary classification =  [0.97933333 0.99       0.99866667 0.99466667 0.99666667 0.98933333\n",
      " 0.99333333 0.982      0.99333333]\n"
     ]
    }
   ],
   "source": [
    "FP = cm.sum(axis=0) - np.diag(cm)  \n",
    "FN = cm.sum(axis=1) - np.diag(cm)\n",
    "TP = np.diag(cm)\n",
    "TN = cm.sum() - (FP + FN + TP)\n",
    "\n",
    "FP = FP.astype(float)\n",
    "FN = FN.astype(float)\n",
    "TP = TP.astype(float)\n",
    "TN = TN.astype(float)\n",
    "\n",
    "print('True Positive(TP)  = ', TP)\n",
    "print('False Positive(FP) = ', FP)\n",
    "print('True Negative(TN)  = ', TN)\n",
    "print('False Negative(FN) = ', FN)\n",
    "\n",
    "accuracy =  (TP+TN) /(TP+FP+TN+FN)\n",
    "\n",
    "print('Accuracy of the binary classification = ', accuracy)"
   ]
  },
  {
   "cell_type": "code",
   "execution_count": 34,
   "id": "3f99b699-830f-4aa7-a76a-8f3d9871b49e",
   "metadata": {},
   "outputs": [
    {
     "data": {
      "image/png": "[encoded data removed]",
      "text/plain": [
       "<Figure size 432x288 with 1 Axes>"
      ]
     },
     "metadata": {
      "needs_background": "light"
     },
     "output_type": "display_data"
    },
    {
     "data": {
      "image/png": "[encoded data removed]",
      "text/plain": [
       "<Figure size 432x288 with 1 Axes>"
      ]
     },
     "metadata": {
      "needs_background": "light"
     },
     "output_type": "display_data"
    }
   ],
   "source": [
    "\n",
    "\n",
    "plt.plot(history.history['accuracy'])\n",
    "plt.plot(history.history['val_accuracy'])\n",
    "\n",
    "plt.title('model accuracy')\n",
    "plt.ylabel('accuracy')\n",
    "plt.xlabel('epoch')\n",
    "plt.legend(['train', 'test'], loc='upper left')\n",
    "plt.grid()\n",
    "plt.savefig(\"accuracy.png\")\n",
    "plt.show()\n",
    "\n",
    "plt.plot(history.history['loss'])\n",
    "plt.plot(history.history['val_loss'])\n",
    "plt.title('model loss')\n",
    "plt.ylabel('loss')\n",
    "plt.xlabel('epoch')\n",
    "plt.legend(['train', 'test'], loc='upper left')\n",
    "plt.grid()\n",
    "plt.savefig(\"loss.png\")\n",
    "plt.show()"
   ]
  },
  {
   "cell_type": "code",
   "execution_count": 20,
   "id": "b82077cb-5957-4426-af9f-4936a54d4dbb",
   "metadata": {},
   "outputs": [
    {
     "name": "stdout",
     "output_type": "stream",
     "text": [
      "              precision    recall  f1-score   support\n",
      "\n",
      "           1       0.88      0.97      0.92       190\n",
      "           2       0.99      0.97      0.98       366\n",
      "           3       0.99      1.00      1.00       388\n",
      "           4       0.99      0.92      0.95        83\n",
      "           5       1.00      0.17      0.29         6\n",
      "           6       0.88      0.98      0.93       102\n",
      "           7       0.92      0.92      0.92        65\n",
      "           8       0.96      0.89      0.92       176\n",
      "           9       0.97      0.94      0.96       124\n",
      "\n",
      "    accuracy                           0.96      1500\n",
      "   macro avg       0.95      0.86      0.87      1500\n",
      "weighted avg       0.96      0.96      0.96      1500\n",
      "\n"
     ]
    }
   ],
   "source": [
    "from sklearn import metrics\n",
    "\n",
    "print(metrics.classification_report(y_test_class, y_pred_class))"
   ]
  },
  {
   "cell_type": "code",
   "execution_count": null,
   "id": "7160a1e7-ac1e-4b14-b2aa-20dbed97d47e",
   "metadata": {},
   "outputs": [],
   "source": []
  }
 ],
 "metadata": {
  "kernelspec": {
   "display_name": "Python 3 (ipykernel)",
   "language": "python",
   "name": "python3"
  },
  "language_info": {
   "codemirror_mode": {
    "name": "ipython",
    "version": 3
   },
   "file_extension": ".py",
   "mimetype": "text/x-python",
   "name": "python",
   "nbconvert_exporter": "python",
   "pygments_lexer": "ipython3",
   "version": "3.10.4"
  }
 },
 "nbformat": 4,
 "nbformat_minor": 5
}
