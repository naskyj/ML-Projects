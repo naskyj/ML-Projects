{
 "cells": [
  {
   "cell_type": "code",
   "execution_count": 1,
   "metadata": {
    "colab": {
     "base_uri": "https://localhost:8080/"
    },
    "id": "awXKZ7G-6s6w",
    "outputId": "88c7694d-2a32-4d03-9c14-0d68507e7e0f"
   },
   "outputs": [],
   "source": [
    "import numpy as np\n",
    "import pandas as pd\n",
    "\n",
    "import matplotlib\n",
    "import matplotlib.pyplot as plt\n",
    "import seaborn as sns\n",
    "#import statsmodels.api as sm\n",
    "%matplotlib inline\n",
    "\n",
    "from sklearn.feature_selection import SelectKBest\n",
    "from sklearn.feature_selection import chi2\n",
    "from sklearn.model_selection import train_test_split\n",
    "from sklearn.linear_model import LinearRegression\n",
    "from sklearn.feature_selection import RFE\n",
    "from sklearn.linear_model import RidgeCV, LassoCV, Ridge, Lasso"
   ]
  },
  {
   "cell_type": "code",
   "execution_count": null,
   "metadata": {
    "id": "Wl0AljdJJcVw"
   },
   "outputs": [],
   "source": [
    "df = pd.read_csv(\"features_file_ml7.csv\")"
   ]
  },
  {
   "cell_type": "code",
   "execution_count": null,
   "metadata": {
    "colab": {
     "base_uri": "https://localhost:8080/"
    },
    "id": "9VyP5bLeJcDL",
    "outputId": "204e60ff-21da-4d84-e017-9383591a585c"
   },
   "outputs": [],
   "source": [
    "df['label'].value_counts()"
   ]
  },
  {
   "cell_type": "code",
   "execution_count": null,
   "metadata": {
    "colab": {
     "base_uri": "https://localhost:8080/"
    },
    "id": "uqsLM59gKAud",
    "outputId": "f9496f76-e7b0-4e61-c21e-fd393d6da188"
   },
   "outputs": [],
   "source": [
    "df.shape"
   ]
  },
  {
   "cell_type": "code",
   "execution_count": null,
   "metadata": {
    "colab": {
     "base_uri": "https://localhost:8080/",
     "height": 334
    },
    "id": "vNFogZAmQ0Mg",
    "outputId": "6faa4904-0890-4ff6-ac96-147fcaf405b5"
   },
   "outputs": [],
   "source": [
    "df.insert(len(df.columns)-1, 'label', df.pop('label')) #move label to end\n",
    "df = df.replace({'label': {'MW': 1, 'BW': 0}})\n",
    "df.head(5)"
   ]
  },
  {
   "cell_type": "code",
   "execution_count": null,
   "metadata": {
    "id": "4o9QLtRX4ZiV"
   },
   "outputs": [],
   "source": [
    "def feature_select(df):\n",
    "\n",
    "  length = len(df.columns)\n",
    "\n",
    "  X = df.iloc[:, 0:length-1]   #Feature Matrix\n",
    "  y = df.iloc[:, length-1]\n",
    "\n",
    "  model = LinearRegression()#Initializing RFE model\n",
    "\n",
    "  rfe = RFE(model, n_features_to_select=20)#Transforming data using RFE\n",
    "  X_rfe = rfe.fit_transform(X,y)  #Fitting the data to model\n",
    "\n",
    "  model.fit(X_rfe,y)\n",
    "\n",
    "  #print(rfe.support_)\n",
    "  #print(rfe.ranking_)\n",
    "\n",
    "  features = rfe.get_support(1) #the most important features\n",
    "  #print(features)\n",
    " \n",
    "  return features\n",
    "  \n"
   ]
  },
  {
   "cell_type": "code",
   "execution_count": null,
   "metadata": {
    "id": "2ZQ9OL07KVeX"
   },
   "outputs": [],
   "source": [
    "\n",
    "features = feature_select(df)\n",
    "\n",
    "df1 = df[df.columns[features]]\n",
    "\n",
    "length = len(df.columns)\n",
    "df1.loc[:, 'Class'] = df.iloc[:, length-1]\n",
    "\n",
    "df1.head(10)"
   ]
  },
  {
   "cell_type": "code",
   "execution_count": null,
   "metadata": {},
   "outputs": [],
   "source": [
    "!pip install statsmodel"
   ]
  }
 ],
 "metadata": {
  "accelerator": "GPU",
  "colab": {
   "machine_shape": "hm",
   "name": "Untitled5.ipynb",
   "provenance": []
  },
  "kernelspec": {
   "display_name": "Python 3 (ipykernel)",
   "language": "python",
   "name": "python3"
  },
  "language_info": {
   "codemirror_mode": {
    "name": "ipython",
    "version": 3
   },
   "file_extension": ".py",
   "mimetype": "text/x-python",
   "name": "python",
   "nbconvert_exporter": "python",
   "pygments_lexer": "ipython3",
   "version": "3.10.4"
  }
 },
 "nbformat": 4,
 "nbformat_minor": 4
}
