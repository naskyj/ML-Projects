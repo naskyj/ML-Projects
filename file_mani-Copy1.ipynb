{
 "cells": [
  {
   "cell_type": "code",
   "execution_count": 1,
   "id": "6f2418b0-3fdb-4ea1-b107-641d481e3763",
   "metadata": {},
   "outputs": [],
   "source": [
    "import os\n",
    "import pickle\n",
    "import shutil\n",
    "import warnings\n",
    "import random as r\n",
    "import numpy as np\n",
    "import pandas as pd\n",
    "import seaborn as sns\n",
    "\n",
    "# Matplotlib Imports\n",
    "import matplotlib  \n",
    "import matplotlib.pyplot as plt\n",
    "matplotlib.use(u'nbAgg')\n",
    "%matplotlib inline\n",
    "\n",
    "import multiprocessing\n",
    "from multiprocessing import Process\n",
    "\n",
    "# This is used for file operations\n",
    "import codecs  "
   ]
  },
  {
   "cell_type": "code",
   "execution_count": 4,
   "id": "14d3f40c-78c0-47ca-be2e-f05af06e4341",
   "metadata": {},
   "outputs": [],
   "source": [
    "data_path = \"malware-classification\"\n",
    "\n",
    "byte_destination = os.path.join(data_path, 'doc_dataset')\n",
    "test_destination = os.path.join(data_path, '006')"
   ]
  },
  {
   "cell_type": "code",
   "execution_count": 5,
   "id": "8986b0ff-f53c-462a-9982-20083be7b37c",
   "metadata": {},
   "outputs": [],
   "source": [
    "files = os.listdir(test_destination)\n",
    "\n",
    "if not os.path.isdir(byte_destination):\n",
    "    os.makedirs(byte_destination)\n",
    "\n",
    "for file in files:\n",
    "    if(file.endswith(\".doc\")):\n",
    "         shutil.move(os.path.join(test_destination, file), byte_destination)"
   ]
  },
  {
   "cell_type": "code",
   "execution_count": null,
   "id": "63731bd3-64c1-4681-b161-304cbad4089d",
   "metadata": {},
   "outputs": [],
   "source": [
    "#utilities cells"
   ]
  },
  {
   "cell_type": "code",
   "execution_count": 20,
   "id": "fd225cd8-41f4-46ba-9f63-0ba58637e077",
   "metadata": {},
   "outputs": [],
   "source": [
    "files = os.listdir(byte_destination)\n",
    "filenames = []\n",
    "array = []\n",
    "for file in files:\n",
    "    if(file.endswith(\"doc\")):\n",
    "         os.remove(os.path.join(byte_destination, file))"
   ]
  },
  {
   "cell_type": "code",
   "execution_count": 3,
   "id": "4db34e58-f79b-460d-9f7a-d8ecc599cd9b",
   "metadata": {},
   "outputs": [
    {
     "name": "stdout",
     "output_type": "stream",
     "text": [
      "Files in 021 985\n",
      "Total files 985\n"
     ]
    }
   ],
   "source": [
    "N = 0 #Total count of number of files in all directories\n",
    "# what is this supposed to be?\n",
    "# N_c = 0 #Number of documents in each class\n",
    "\n",
    "for dirpath, dirnames, filenames in os.walk(\"021\"):\n",
    "    N += len(filenames)\n",
    "    print(\"Files in\", dirpath, len(filenames))\n",
    "\n",
    "print(\"Total files\", N)"
   ]
  },
  {
   "cell_type": "code",
   "execution_count": 13,
   "id": "586eadc7-7a46-4906-be38-6f469ad8c62d",
   "metadata": {},
   "outputs": [],
   "source": [
    "import os, shutil, sys \n",
    "\n",
    "def move_to_root_folder(root_path, cur_path):\n",
    "    for filename in os.listdir(cur_path):\n",
    "        if os.path.isfile(os.path.join(cur_path, filename)):\n",
    "            shutil.move(os.path.join(cur_path, filename), os.path.join(root_path, filename))\n",
    "        elif os.path.isdir(os.path.join(cur_path, filename)):\n",
    "            move_to_root_folder(root_path, os.path.join(cur_path, filename))\n",
    "        else:\n",
    "            sys.exit(\"Should never reach here.\")\n",
    "    # remove empty folders\n",
    "    if cur_path != root_path:\n",
    "        os.rmdir(cur_path)\n",
    "        \n",
    "move_to_root_folder('C:\\\\Users\\\\Razaq\\\\Jupyter\\\\statistical', 'C:\\\\Users\\\\Razaq\\\\Jupyter\\\\statistical')"
   ]
  },
  {
   "cell_type": "code",
   "execution_count": null,
   "id": "c7ee64d3-5d64-442c-a811-5c7b7fed7068",
   "metadata": {},
   "outputs": [],
   "source": [
    "files = os.listdir(byte_destination)\n",
    "\n",
    "for file in files:\n",
    "    if(file.endswith(\"_exe\")):   \n",
    "        os.remove(os.path.join(byte_destination, file))"
   ]
  },
  {
   "cell_type": "code",
   "execution_count": null,
   "id": "0146cee9-98b1-4478-9f31-9d78649b64cc",
   "metadata": {},
   "outputs": [],
   "source": [
    "#using those upper cells for utility purposes"
   ]
  },
  {
   "cell_type": "code",
   "execution_count": 6,
   "id": "81451640-85c7-457d-b4c6-f2f7ad5e3080",
   "metadata": {},
   "outputs": [],
   "source": [
    "files = os.listdir(byte_destination)\n",
    "filenames = []\n",
    "array = []\n",
    "for file in files:\n",
    "    \n",
    "    if(file.endswith(\"doc\")):\n",
    "    \n",
    "        file = file.split('.')[0]\n",
    "        text_file = open (os.path.join(byte_destination, file) + \".txt\", 'w+')\n",
    "    \n",
    "        try:\n",
    "            with open(os.path.join(byte_destination, file) + \".doc\", \"rb\") as fp:\n",
    "        \n",
    "                content = fp.read().hex()\n",
    "                content = content[4:-4]\n",
    "                values = [content[i:i+2] for i in range(0,len(content), 2)]\n",
    "        \n",
    "                for line in values:\n",
    "                    text_file.write(line)\n",
    "                    text_file.write(\" \")\n",
    "        \n",
    "                fp.close()\n",
    "                #os.remove(os.path.join(byte_destination, file) + \".doc\")\n",
    "            \n",
    "        except OSError as e:\n",
    "            print('Error:', e)\n",
    "            continue\n",
    "            \n",
    "        text_file.close()"
   ]
  },
  {
   "cell_type": "code",
   "execution_count": 7,
   "id": "6cea6a5e-9e99-40cc-b5ba-2a5e174598a6",
   "metadata": {},
   "outputs": [],
   "source": [
    "files = os.listdir(byte_destination)\n",
    "filenames2 = []\n",
    "feature_matrix = np.zeros((len(files), 257),dtype=int)\n",
    "k = 0\n",
    "\n",
    "# Program to convert into bag of words of bytefiles\n",
    "# This is custom-built bag of words this is unigram bag of words\n",
    "byte_feature_file = open('doc.csv','w+')\n",
    "byte_feature_file.write(\"ID,0,1,2,3,4,5,6,7,8,9,0a,0b,0c,0d,0e,0f,10,11,12,13,14,15,16,17,18,19,1a,1b,1c,1d,1e,1f,20,21,22,23,24,25,26,27,28,29,2a,2b,2c,2d,2e,2f,30,31,32,33,34,35,36,37,38,39,3a,3b,3c,3d,3e,3f,40,41,42,43,44,45,46,47,48,49,4a,4b,4c,4d,4e,4f,50,51,52,53,54,55,56,57,58,59,5a,5b,5c,5d,5e,5f,60,61,62,63,64,65,66,67,68,69,6a,6b,6c,6d,6e,6f,70,71,72,73,74,75,76,77,78,79,7a,7b,7c,7d,7e,7f,80,81,82,83,84,85,86,87,88,89,8a,8b,8c,8d,8e,8f,90,91,92,93,94,95,96,97,98,99,9a,9b,9c,9d,9e,9f,a0,a1,a2,a3,a4,a5,a6,a7,a8,a9,aa,ab,ac,ad,ae,af,b0,b1,b2,b3,b4,b5,b6,b7,b8,b9,ba,bb,bc,bd,be,bf,c0,c1,c2,c3,c4,c5,c6,c7,c8,c9,ca,cb,cc,cd,ce,cf,d0,d1,d2,d3,d4,d5,d6,d7,d8,d9,da,db,dc,dd,de,df,e0,e1,e2,e3,e4,e5,e6,e7,e8,e9,ea,eb,ec,ed,ee,ef,f0,f1,f2,f3,f4,f5,f6,f7,f8,f9,fa,fb,fc,fd,fe,ff,??\")\n",
    "\n",
    "byte_feature_file.write(\"\\n\")\n",
    "\n",
    "for file in files:\n",
    "    filenames2.append(file)\n",
    "    byte_feature_file.write(file + \",\")\n",
    "    if(file.endswith(\"txt\")):\n",
    "        try:\n",
    "            with open(os.path.join(byte_destination, file), \"r\") as byte_file:\n",
    "                for lines in byte_file:\n",
    "                    line = lines.rstrip().split(\" \")\n",
    "                    for hex_code in line:\n",
    "                        if hex_code == '??': feature_matrix[k][256] += 1\n",
    "                        else: feature_matrix[k][int(hex_code,16)] += 1\n",
    "            byte_file.close()\n",
    "        except OSError as e:\n",
    "            print('Error:', e)\n",
    "            continue\n",
    "    for i in feature_matrix[k]:\n",
    "        byte_feature_file.write(str(i) + \",\")\n",
    "    byte_feature_file.write(\"\\n\")\n",
    "    k += 1\n",
    "\n",
    "byte_feature_file.close()"
   ]
  },
  {
   "cell_type": "code",
   "execution_count": 74,
   "id": "9d9af6a7-58b1-4801-acc1-34ce9739192c",
   "metadata": {},
   "outputs": [
    {
     "name": "stderr",
     "output_type": "stream",
     "text": [
      "C:\\Users\\Razaq\\AppData\\Local\\Temp\\ipykernel_21444\\418908139.py:4: FutureWarning: In a future version of pandas all arguments of DataFrame.drop except for the argument 'labels' will be keyword-only.\n",
      "  byte_features = byte_features.drop(\"??\", 1)\n"
     ]
    },
    {
     "data": {
      "text/html": [
       "<div>\n",
       "<style scoped>\n",
       "    .dataframe tbody tr th:only-of-type {\n",
       "        vertical-align: middle;\n",
       "    }\n",
       "\n",
       "    .dataframe tbody tr th {\n",
       "        vertical-align: top;\n",
       "    }\n",
       "\n",
       "    .dataframe thead th {\n",
       "        text-align: right;\n",
       "    }\n",
       "</style>\n",
       "<table border=\"1\" class=\"dataframe\">\n",
       "  <thead>\n",
       "    <tr style=\"text-align: right;\">\n",
       "      <th></th>\n",
       "      <th>ID</th>\n",
       "      <th>0</th>\n",
       "      <th>1</th>\n",
       "      <th>2</th>\n",
       "      <th>3</th>\n",
       "      <th>4</th>\n",
       "      <th>5</th>\n",
       "      <th>6</th>\n",
       "      <th>7</th>\n",
       "      <th>8</th>\n",
       "      <th>...</th>\n",
       "      <th>f6</th>\n",
       "      <th>f7</th>\n",
       "      <th>f8</th>\n",
       "      <th>f9</th>\n",
       "      <th>fa</th>\n",
       "      <th>fb</th>\n",
       "      <th>fc</th>\n",
       "      <th>fd</th>\n",
       "      <th>fe</th>\n",
       "      <th>ff</th>\n",
       "    </tr>\n",
       "  </thead>\n",
       "  <tbody>\n",
       "    <tr>\n",
       "      <th>0</th>\n",
       "      <td>000030</td>\n",
       "      <td>3386171</td>\n",
       "      <td>93936</td>\n",
       "      <td>97982</td>\n",
       "      <td>50523</td>\n",
       "      <td>54115</td>\n",
       "      <td>72022</td>\n",
       "      <td>49954</td>\n",
       "      <td>49803</td>\n",
       "      <td>93833</td>\n",
       "      <td>...</td>\n",
       "      <td>2594</td>\n",
       "      <td>2349</td>\n",
       "      <td>2689</td>\n",
       "      <td>2425</td>\n",
       "      <td>3366</td>\n",
       "      <td>2443</td>\n",
       "      <td>2570</td>\n",
       "      <td>441736</td>\n",
       "      <td>2989</td>\n",
       "      <td>47560</td>\n",
       "    </tr>\n",
       "    <tr>\n",
       "      <th>1</th>\n",
       "      <td>000031</td>\n",
       "      <td>886843</td>\n",
       "      <td>53868</td>\n",
       "      <td>104099</td>\n",
       "      <td>28985</td>\n",
       "      <td>27957</td>\n",
       "      <td>2597</td>\n",
       "      <td>3181</td>\n",
       "      <td>2625</td>\n",
       "      <td>28441</td>\n",
       "      <td>...</td>\n",
       "      <td>782</td>\n",
       "      <td>778</td>\n",
       "      <td>975</td>\n",
       "      <td>725</td>\n",
       "      <td>756</td>\n",
       "      <td>722</td>\n",
       "      <td>829</td>\n",
       "      <td>51057</td>\n",
       "      <td>766</td>\n",
       "      <td>27389</td>\n",
       "    </tr>\n",
       "    <tr>\n",
       "      <th>2</th>\n",
       "      <td>000032</td>\n",
       "      <td>12078878</td>\n",
       "      <td>72370</td>\n",
       "      <td>73073</td>\n",
       "      <td>56711</td>\n",
       "      <td>56705</td>\n",
       "      <td>56712</td>\n",
       "      <td>71814</td>\n",
       "      <td>71929</td>\n",
       "      <td>72047</td>\n",
       "      <td>...</td>\n",
       "      <td>8071</td>\n",
       "      <td>8091</td>\n",
       "      <td>8110</td>\n",
       "      <td>8088</td>\n",
       "      <td>8399</td>\n",
       "      <td>8068</td>\n",
       "      <td>8049</td>\n",
       "      <td>1946879</td>\n",
       "      <td>8112</td>\n",
       "      <td>65684</td>\n",
       "    </tr>\n",
       "    <tr>\n",
       "      <th>3</th>\n",
       "      <td>000033</td>\n",
       "      <td>1664983</td>\n",
       "      <td>42701</td>\n",
       "      <td>156226</td>\n",
       "      <td>91359</td>\n",
       "      <td>23879</td>\n",
       "      <td>37636</td>\n",
       "      <td>20950</td>\n",
       "      <td>22932</td>\n",
       "      <td>168155</td>\n",
       "      <td>...</td>\n",
       "      <td>5747</td>\n",
       "      <td>1846</td>\n",
       "      <td>8327</td>\n",
       "      <td>3757</td>\n",
       "      <td>1656</td>\n",
       "      <td>4652</td>\n",
       "      <td>3327</td>\n",
       "      <td>61139</td>\n",
       "      <td>2900</td>\n",
       "      <td>18638</td>\n",
       "    </tr>\n",
       "    <tr>\n",
       "      <th>4</th>\n",
       "      <td>000034</td>\n",
       "      <td>5967784</td>\n",
       "      <td>193550</td>\n",
       "      <td>117216</td>\n",
       "      <td>71332</td>\n",
       "      <td>62964</td>\n",
       "      <td>71865</td>\n",
       "      <td>23235</td>\n",
       "      <td>280194</td>\n",
       "      <td>81645</td>\n",
       "      <td>...</td>\n",
       "      <td>5237</td>\n",
       "      <td>4572</td>\n",
       "      <td>8628</td>\n",
       "      <td>5167</td>\n",
       "      <td>262261</td>\n",
       "      <td>4057</td>\n",
       "      <td>5956</td>\n",
       "      <td>514277</td>\n",
       "      <td>5710</td>\n",
       "      <td>55766</td>\n",
       "    </tr>\n",
       "  </tbody>\n",
       "</table>\n",
       "<p>5 rows × 257 columns</p>\n",
       "</div>"
      ],
      "text/plain": [
       "       ID         0       1       2      3      4      5      6       7  \\\n",
       "0  000030   3386171   93936   97982  50523  54115  72022  49954   49803   \n",
       "1  000031    886843   53868  104099  28985  27957   2597   3181    2625   \n",
       "2  000032  12078878   72370   73073  56711  56705  56712  71814   71929   \n",
       "3  000033   1664983   42701  156226  91359  23879  37636  20950   22932   \n",
       "4  000034   5967784  193550  117216  71332  62964  71865  23235  280194   \n",
       "\n",
       "        8  ...    f6    f7    f8    f9      fa    fb    fc       fd    fe  \\\n",
       "0   93833  ...  2594  2349  2689  2425    3366  2443  2570   441736  2989   \n",
       "1   28441  ...   782   778   975   725     756   722   829    51057   766   \n",
       "2   72047  ...  8071  8091  8110  8088    8399  8068  8049  1946879  8112   \n",
       "3  168155  ...  5747  1846  8327  3757    1656  4652  3327    61139  2900   \n",
       "4   81645  ...  5237  4572  8628  5167  262261  4057  5956   514277  5710   \n",
       "\n",
       "      ff  \n",
       "0  47560  \n",
       "1  27389  \n",
       "2  65684  \n",
       "3  18638  \n",
       "4  55766  \n",
       "\n",
       "[5 rows x 257 columns]"
      ]
     },
     "execution_count": 74,
     "metadata": {},
     "output_type": "execute_result"
    }
   ],
   "source": [
    "byte_features = pd.read_csv(\"xls.csv\", sep=\",\", index_col=False)\n",
    "\n",
    "byte_features['ID']  = byte_features['ID'].str.split('.').str[0]\n",
    "byte_features = byte_features.drop(\"??\", 1)\n",
    "\n",
    "\n",
    "byte_features.head()\n"
   ]
  },
  {
   "cell_type": "code",
   "execution_count": 24,
   "id": "f5bf8153-06c0-4121-a743-251001c40e95",
   "metadata": {},
   "outputs": [],
   "source": [
    "def normalize(df):\n",
    "    result1 = df.copy()\n",
    "    for feature_name in df.columns:\n",
    "        if (str(feature_name) != str('ID') and str(feature_name)!=str('Class')):\n",
    "            max_value = df[feature_name].max()\n",
    "            min_value = df[feature_name].min()\n",
    "            result1[feature_name] = (df[feature_name] - min_value) / (max_value - min_value)\n",
    "    return result1"
   ]
  },
  {
   "cell_type": "code",
   "execution_count": 25,
   "id": "ff7914da-89b6-4cc3-8b4a-3128382c2a96",
   "metadata": {},
   "outputs": [],
   "source": [
    "df1 = normalize(byte_features)\n",
    "\n",
    "#df1 = byte_features"
   ]
  },
  {
   "cell_type": "code",
   "execution_count": 26,
   "id": "bf95d0df-ffa8-4437-a1e6-0c7068b1df51",
   "metadata": {},
   "outputs": [
    {
     "name": "stderr",
     "output_type": "stream",
     "text": [
      "C:\\Users\\Razaq\\AppData\\Local\\Temp\\ipykernel_22912\\388508820.py:1: FutureWarning: The pandas.np module is deprecated and will be removed from pandas in a future version. Import numpy directly instead.\n",
      "  df1.loc['total'] = byte_features.select_dtypes(pd.np.number).sum()\n"
     ]
    },
    {
     "data": {
      "text/html": [
       "<div>\n",
       "<style scoped>\n",
       "    .dataframe tbody tr th:only-of-type {\n",
       "        vertical-align: middle;\n",
       "    }\n",
       "\n",
       "    .dataframe tbody tr th {\n",
       "        vertical-align: top;\n",
       "    }\n",
       "\n",
       "    .dataframe thead th {\n",
       "        text-align: right;\n",
       "    }\n",
       "</style>\n",
       "<table border=\"1\" class=\"dataframe\">\n",
       "  <thead>\n",
       "    <tr style=\"text-align: right;\">\n",
       "      <th></th>\n",
       "      <th>ID</th>\n",
       "      <th>0</th>\n",
       "      <th>1</th>\n",
       "      <th>2</th>\n",
       "      <th>3</th>\n",
       "      <th>4</th>\n",
       "      <th>5</th>\n",
       "      <th>6</th>\n",
       "      <th>7</th>\n",
       "      <th>8</th>\n",
       "      <th>...</th>\n",
       "      <th>f6</th>\n",
       "      <th>f7</th>\n",
       "      <th>f8</th>\n",
       "      <th>f9</th>\n",
       "      <th>fa</th>\n",
       "      <th>fb</th>\n",
       "      <th>fc</th>\n",
       "      <th>fd</th>\n",
       "      <th>fe</th>\n",
       "      <th>ff</th>\n",
       "    </tr>\n",
       "  </thead>\n",
       "  <tbody>\n",
       "    <tr>\n",
       "      <th>717</th>\n",
       "      <td>zorua</td>\n",
       "      <td>0.037736</td>\n",
       "      <td>0.076923</td>\n",
       "      <td>0.166667</td>\n",
       "      <td>0.06</td>\n",
       "      <td>0.20</td>\n",
       "      <td>0.350</td>\n",
       "      <td>0.322034</td>\n",
       "      <td>0.277778</td>\n",
       "      <td>0.312500</td>\n",
       "      <td>...</td>\n",
       "      <td>0.305556</td>\n",
       "      <td>0.188679</td>\n",
       "      <td>0.264706</td>\n",
       "      <td>0.236842</td>\n",
       "      <td>0.228571</td>\n",
       "      <td>0.380952</td>\n",
       "      <td>0.333333</td>\n",
       "      <td>0.256410</td>\n",
       "      <td>0.184211</td>\n",
       "      <td>0.269231</td>\n",
       "    </tr>\n",
       "    <tr>\n",
       "      <th>718</th>\n",
       "      <td>zubat</td>\n",
       "      <td>0.000000</td>\n",
       "      <td>0.057692</td>\n",
       "      <td>0.142857</td>\n",
       "      <td>0.08</td>\n",
       "      <td>0.10</td>\n",
       "      <td>0.175</td>\n",
       "      <td>0.152542</td>\n",
       "      <td>0.166667</td>\n",
       "      <td>0.520833</td>\n",
       "      <td>...</td>\n",
       "      <td>0.111111</td>\n",
       "      <td>0.132075</td>\n",
       "      <td>0.235294</td>\n",
       "      <td>0.263158</td>\n",
       "      <td>0.200000</td>\n",
       "      <td>0.190476</td>\n",
       "      <td>0.277778</td>\n",
       "      <td>0.307692</td>\n",
       "      <td>0.157895</td>\n",
       "      <td>0.096154</td>\n",
       "    </tr>\n",
       "    <tr>\n",
       "      <th>719</th>\n",
       "      <td>zweilous</td>\n",
       "      <td>0.084906</td>\n",
       "      <td>0.211538</td>\n",
       "      <td>0.452381</td>\n",
       "      <td>0.24</td>\n",
       "      <td>0.46</td>\n",
       "      <td>0.375</td>\n",
       "      <td>0.338983</td>\n",
       "      <td>0.555556</td>\n",
       "      <td>0.437500</td>\n",
       "      <td>...</td>\n",
       "      <td>0.416667</td>\n",
       "      <td>0.377358</td>\n",
       "      <td>0.411765</td>\n",
       "      <td>0.236842</td>\n",
       "      <td>0.342857</td>\n",
       "      <td>0.428571</td>\n",
       "      <td>0.305556</td>\n",
       "      <td>0.282051</td>\n",
       "      <td>0.236842</td>\n",
       "      <td>0.250000</td>\n",
       "    </tr>\n",
       "    <tr>\n",
       "      <th>720</th>\n",
       "      <td>zygarde-50</td>\n",
       "      <td>0.443396</td>\n",
       "      <td>0.692308</td>\n",
       "      <td>0.595238</td>\n",
       "      <td>0.40</td>\n",
       "      <td>0.50</td>\n",
       "      <td>0.375</td>\n",
       "      <td>0.457627</td>\n",
       "      <td>0.361111</td>\n",
       "      <td>0.312500</td>\n",
       "      <td>...</td>\n",
       "      <td>0.416667</td>\n",
       "      <td>0.528302</td>\n",
       "      <td>0.705882</td>\n",
       "      <td>0.421053</td>\n",
       "      <td>0.428571</td>\n",
       "      <td>0.404762</td>\n",
       "      <td>0.666667</td>\n",
       "      <td>0.410256</td>\n",
       "      <td>0.710526</td>\n",
       "      <td>0.615385</td>\n",
       "    </tr>\n",
       "    <tr>\n",
       "      <th>total</th>\n",
       "      <td>total</td>\n",
       "      <td>37412.000000</td>\n",
       "      <td>9679.000000</td>\n",
       "      <td>9262.000000</td>\n",
       "      <td>7803.00</td>\n",
       "      <td>11253.00</td>\n",
       "      <td>8859.000</td>\n",
       "      <td>9149.000000</td>\n",
       "      <td>7435.000000</td>\n",
       "      <td>11455.000000</td>\n",
       "      <td>...</td>\n",
       "      <td>7789.000000</td>\n",
       "      <td>9552.000000</td>\n",
       "      <td>7900.000000</td>\n",
       "      <td>7950.000000</td>\n",
       "      <td>7263.000000</td>\n",
       "      <td>8857.000000</td>\n",
       "      <td>8449.000000</td>\n",
       "      <td>8035.000000</td>\n",
       "      <td>7997.000000</td>\n",
       "      <td>11327.000000</td>\n",
       "    </tr>\n",
       "  </tbody>\n",
       "</table>\n",
       "<p>5 rows × 257 columns</p>\n",
       "</div>"
      ],
      "text/plain": [
       "               ID             0            1            2        3         4  \\\n",
       "717         zorua      0.037736     0.076923     0.166667     0.06      0.20   \n",
       "718         zubat      0.000000     0.057692     0.142857     0.08      0.10   \n",
       "719      zweilous      0.084906     0.211538     0.452381     0.24      0.46   \n",
       "720    zygarde-50      0.443396     0.692308     0.595238     0.40      0.50   \n",
       "total       total  37412.000000  9679.000000  9262.000000  7803.00  11253.00   \n",
       "\n",
       "              5            6            7             8  ...           f6  \\\n",
       "717       0.350     0.322034     0.277778      0.312500  ...     0.305556   \n",
       "718       0.175     0.152542     0.166667      0.520833  ...     0.111111   \n",
       "719       0.375     0.338983     0.555556      0.437500  ...     0.416667   \n",
       "720       0.375     0.457627     0.361111      0.312500  ...     0.416667   \n",
       "total  8859.000  9149.000000  7435.000000  11455.000000  ...  7789.000000   \n",
       "\n",
       "                f7           f8           f9           fa           fb  \\\n",
       "717       0.188679     0.264706     0.236842     0.228571     0.380952   \n",
       "718       0.132075     0.235294     0.263158     0.200000     0.190476   \n",
       "719       0.377358     0.411765     0.236842     0.342857     0.428571   \n",
       "720       0.528302     0.705882     0.421053     0.428571     0.404762   \n",
       "total  9552.000000  7900.000000  7950.000000  7263.000000  8857.000000   \n",
       "\n",
       "                fc           fd           fe            ff  \n",
       "717       0.333333     0.256410     0.184211      0.269231  \n",
       "718       0.277778     0.307692     0.157895      0.096154  \n",
       "719       0.305556     0.282051     0.236842      0.250000  \n",
       "720       0.666667     0.410256     0.710526      0.615385  \n",
       "total  8449.000000  8035.000000  7997.000000  11327.000000  \n",
       "\n",
       "[5 rows x 257 columns]"
      ]
     },
     "execution_count": 26,
     "metadata": {},
     "output_type": "execute_result"
    }
   ],
   "source": [
    "df1.loc['total'] = byte_features.select_dtypes(pd.np.number).sum()\n",
    "\n",
    "df1 = df1.replace(np.nan, 'total', regex=True)\n",
    "\n",
    "df1.tail()"
   ]
  },
  {
   "cell_type": "code",
   "execution_count": 27,
   "id": "21383cab-c016-4e9e-bdc4-5c64abbf4007",
   "metadata": {},
   "outputs": [
    {
     "name": "stderr",
     "output_type": "stream",
     "text": [
      "C:\\Users\\Razaq\\AppData\\Local\\Temp\\ipykernel_22912\\3815500344.py:4: UserWarning: Matplotlib is currently using module://matplotlib_inline.backend_inline, which is a non-GUI backend, so cannot show the figure.\n",
      "  fig.show()\n"
     ]
    },
    {
     "data": {
      "image/png": "[encoded data removed]",
      "text/plain": [
       "<Figure size 432x288 with 1 Axes>"
      ]
     },
     "metadata": {
      "needs_background": "light"
     },
     "output_type": "display_data"
    },
    {
     "data": {
      "text/plain": [
       "<Figure size 432x288 with 0 Axes>"
      ]
     },
     "metadata": {},
     "output_type": "display_data"
    }
   ],
   "source": [
    "df1.query('ID == \"total\"').set_index('ID').T.plot()\n",
    "fig = plt.figure()\n",
    "fig.canvas.manager.full_screen_toggle() # toggle fullscreen mode\n",
    "fig.show()"
   ]
  },
  {
   "cell_type": "code",
   "execution_count": 25,
   "id": "1ea6357c-0541-4736-83e8-e1868b0cf14b",
   "metadata": {},
   "outputs": [
    {
     "data": {
      "text/html": [
       "<div>\n",
       "<style scoped>\n",
       "    .dataframe tbody tr th:only-of-type {\n",
       "        vertical-align: middle;\n",
       "    }\n",
       "\n",
       "    .dataframe tbody tr th {\n",
       "        vertical-align: top;\n",
       "    }\n",
       "\n",
       "    .dataframe thead th {\n",
       "        text-align: right;\n",
       "    }\n",
       "</style>\n",
       "<table border=\"1\" class=\"dataframe\">\n",
       "  <thead>\n",
       "    <tr style=\"text-align: right;\">\n",
       "      <th></th>\n",
       "      <th>0</th>\n",
       "      <th>1</th>\n",
       "      <th>2</th>\n",
       "      <th>3</th>\n",
       "      <th>4</th>\n",
       "      <th>5</th>\n",
       "      <th>6</th>\n",
       "      <th>7</th>\n",
       "      <th>8</th>\n",
       "      <th>9</th>\n",
       "      <th>...</th>\n",
       "      <th>f6</th>\n",
       "      <th>f7</th>\n",
       "      <th>f8</th>\n",
       "      <th>f9</th>\n",
       "      <th>fa</th>\n",
       "      <th>fb</th>\n",
       "      <th>fc</th>\n",
       "      <th>fd</th>\n",
       "      <th>fe</th>\n",
       "      <th>ff</th>\n",
       "    </tr>\n",
       "  </thead>\n",
       "  <tbody>\n",
       "    <tr>\n",
       "      <th>0</th>\n",
       "      <td>8978626.0</td>\n",
       "      <td>3373908.0</td>\n",
       "      <td>2897366.0</td>\n",
       "      <td>3195850.0</td>\n",
       "      <td>3233464.0</td>\n",
       "      <td>2873864.0</td>\n",
       "      <td>2682027.0</td>\n",
       "      <td>3143194.0</td>\n",
       "      <td>3056032.0</td>\n",
       "      <td>3104613.0</td>\n",
       "      <td>...</td>\n",
       "      <td>2894078.0</td>\n",
       "      <td>2836444.0</td>\n",
       "      <td>2669568.0</td>\n",
       "      <td>2772320.0</td>\n",
       "      <td>3065915.0</td>\n",
       "      <td>2847527.0</td>\n",
       "      <td>2772409.0</td>\n",
       "      <td>2860630.0</td>\n",
       "      <td>2790598.0</td>\n",
       "      <td>3014370.0</td>\n",
       "    </tr>\n",
       "  </tbody>\n",
       "</table>\n",
       "<p>1 rows × 256 columns</p>\n",
       "</div>"
      ],
      "text/plain": [
       "           0          1          2          3          4          5  \\\n",
       "0  8978626.0  3373908.0  2897366.0  3195850.0  3233464.0  2873864.0   \n",
       "\n",
       "           6          7          8          9  ...         f6         f7  \\\n",
       "0  2682027.0  3143194.0  3056032.0  3104613.0  ...  2894078.0  2836444.0   \n",
       "\n",
       "          f8         f9         fa         fb         fc         fd  \\\n",
       "0  2669568.0  2772320.0  3065915.0  2847527.0  2772409.0  2860630.0   \n",
       "\n",
       "          fe         ff  \n",
       "0  2790598.0  3014370.0  \n",
       "\n",
       "[1 rows x 256 columns]"
      ]
     },
     "execution_count": 31,
     "metadata": {},
     "output_type": "execute_result"
    }
   ],
   "source": [
    "#df_plot = pd.DataFrame(df1)\n",
    "df_plot = df1.drop('ID', axis=1)\n",
    "df_plot = df_plot.iloc[[-1]]\n",
    "df_plot.head()"
   ]
  },
  {
   "cell_type": "code",
   "execution_count": 52,
   "id": "f786681b-0c06-4b36-b5df-6063e6e8b3ee",
   "metadata": {},
   "outputs": [],
   "source": [
    "import itertools\n",
    "def split_dict(x, chunks):      \n",
    "    i = itertools.cycle(range(chunks))       \n",
    "    split = [dict() for _ in range(chunks)]\n",
    "    for k, v in x.items():\n",
    "       \n",
    "        split[next(i)][k] = v\n",
    "       \n",
    "    return split"
   ]
  },
  {
   "cell_type": "code",
   "execution_count": 54,
   "id": "b71ba272-0376-447f-bb71-e6813d6a130e",
   "metadata": {},
   "outputs": [
    {
     "name": "stdout",
     "output_type": "stream",
     "text": [
      "[{'0': 8978626.0, '8': 3056032.0, '10': 2672044.0, '18': 2837395.0, '20': 3647785.0, '28': 2887625.0, '30': 2597152.0, '38': 3148673.0, '40': 2897022.0, '48': 3722523.0, '50': 3176069.0, '58': 3074305.0, '60': 2692743.0, '68': 2794715.0, '70': 3006081.0, '78': 2767961.0, '80': 2870460.0, '88': 2750912.0, '90': 3372728.0, '98': 2780473.0, 'a0': 2788820.0, 'a8': 3599704.0, 'b0': 2808853.0, 'b8': 3242802.0, 'c0': 2701606.0, 'c8': 3030489.0, 'd0': 2489820.0, 'd8': 2908308.0, 'e0': 2679742.0, 'e8': 2329821.0, 'f0': 2498267.0, 'f8': 2669568.0}, {'1': 3373908.0, '9': 3104613.0, '11': 2840011.0, '19': 2969503.0, '21': 2862421.0, '29': 3617798.0, '31': 3077077.0, '39': 3123251.0, '41': 3119508.0, '49': 4143466.0, '51': 3340766.0, '59': 3096178.0, '61': 2795550.0, '69': 3630796.0, '71': 3440208.0, '79': 3022158.0, '81': 2724601.0, '89': 2921551.0, '91': 3363241.0, '99': 2895111.0, 'a1': 2856955.0, 'a9': 3904068.0, 'b1': 3144530.0, 'b9': 3162690.0, 'c1': 2670637.0, 'c9': 3146004.0, 'd1': 2622710.0, 'd9': 2676553.0, 'e1': 2754578.0, 'e9': 3445617.0, 'f1': 2962182.0, 'f9': 2772320.0}, {'2': 2897366.0, '0a': 3156995.0, '12': 3307748.0, '1a': 2904479.0, '22': 2680551.0, '2a': 3818957.0, '32': 3151956.0, '3a': 3177613.0, '42': 2965385.0, '4a': 3896971.0, '52': 4119218.0, '5a': 3530284.0, '62': 2909088.0, '6a': 3449454.0, '72': 3350439.0, '7a': 3020843.0, '82': 3132061.0, '8a': 3149340.0, '92': 4187774.0, '9a': 3124856.0, 'a2': 2998896.0, 'aa': 3712127.0, 'b2': 3138503.0, 'ba': 3102746.0, 'c2': 2646292.0, 'ca': 3273737.0, 'd2': 3459364.0, 'da': 3325478.0, 'e2': 2942846.0, 'ea': 3545483.0, 'f2': 2992651.0, 'fa': 3065915.0}, {'3': 3195850.0, '0b': 2657491.0, '13': 2646178.0, '1b': 3142136.0, '23': 3464830.0, '2b': 3095084.0, '33': 2764517.0, '3b': 3128830.0, '43': 2861576.0, '4b': 3298934.0, '53': 3466972.0, '5b': 3261669.0, '63': 3390024.0, '6b': 3128473.0, '73': 3095755.0, '7b': 2874993.0, '83': 2615422.0, '8b': 2635956.0, '93': 3051108.0, '9b': 2739016.0, 'a3': 2947717.0, 'ab': 3299573.0, 'b3': 2617681.0, 'bb': 2725301.0, 'c3': 2800972.0, 'cb': 3017633.0, 'd3': 3531185.0, 'db': 3657557.0, 'e3': 3439692.0, 'eb': 3011927.0, 'f3': 2771087.0, 'fb': 2847527.0}, {'4': 3233464.0, '0c': 2829022.0, '14': 3118221.0, '1c': 3301996.0, '24': 4099156.0, '2c': 3066680.0, '34': 2987152.0, '3c': 3238993.0, '44': 2687857.0, '4c': 2893619.0, '54': 3783949.0, '5c': 3044273.0, '64': 3097409.0, '6c': 3043773.0, '74': 2994177.0, '7c': 2668189.0, '84': 2565342.0, '8c': 3077107.0, '94': 3413169.0, '9c': 2924381.0, 'a4': 3700051.0, 'ac': 3049956.0, 'b4': 3320717.0, 'bc': 2545294.0, 'c4': 3050483.0, 'cc': 2794325.0, 'd4': 3754589.0, 'dc': 3355216.0, 'e4': 3140364.0, 'ec': 2628518.0, 'f4': 2914160.0, 'fc': 2772409.0}, {'5': 2873864.0, '0d': 2869838.0, '15': 3170162.0, '1d': 3255793.0, '25': 3388516.0, '2d': 3345387.0, '35': 3065957.0, '3d': 3184193.0, '45': 3011090.0, '4d': 3208380.0, '55': 3780439.0, '5d': 2947606.0, '65': 3388774.0, '6d': 3684752.0, '75': 3438982.0, '7d': 3045351.0, '85': 2975553.0, '8d': 3183649.0, '95': 3746865.0, '9d': 2999565.0, 'a5': 3804288.0, 'ad': 3444600.0, 'b5': 3498628.0, 'bd': 2708386.0, 'c5': 2800989.0, 'cd': 2672821.0, 'd5': 3249689.0, 'dd': 2871298.0, 'e5': 3090521.0, 'ed': 3320571.0, 'f5': 3187153.0, 'fd': 2860630.0}, {'6': 2682027.0, '0e': 2934233.0, '16': 2876048.0, '1e': 3034048.0, '26': 2640437.0, '2e': 2930987.0, '36': 3162187.0, '3e': 3036698.0, '46': 3170372.0, '4e': 3206593.0, '56': 3428422.0, '5e': 2643361.0, '66': 2820969.0, '6e': 3400904.0, '76': 3083323.0, '7e': 2844790.0, '86': 2999200.0, '8e': 3619527.0, '96': 3542056.0, '9e': 3347600.0, 'a6': 3440405.0, 'ae': 3127384.0, 'b6': 3485112.0, 'be': 2721192.0, 'c6': 3131060.0, 'ce': 2724853.0, 'd6': 3095885.0, 'de': 2609250.0, 'e6': 2677735.0, 'ee': 2919997.0, 'f6': 2894078.0, 'fe': 2790598.0}, {'7': 3143194.0, '0f': 2736084.0, '17': 2429098.0, '1f': 2921807.0, '27': 3057099.0, '2f': 2359128.0, '37': 2770768.0, '3f': 2901190.0, '47': 3283477.0, '4f': 3383160.0, '57': 2981960.0, '5f': 2548286.0, '67': 2626051.0, '6f': 2974172.0, '77': 2785747.0, '7f': 2797851.0, '87': 2585129.0, '8f': 3215546.0, '97': 2776702.0, '9f': 2974519.0, 'a7': 3532570.0, 'af': 2870966.0, 'b7': 3447675.0, 'bf': 2752753.0, 'c7': 3593030.0, 'cf': 2958190.0, 'd7': 3027545.0, 'df': 2925623.0, 'e7': 3115012.0, 'ef': 2661692.0, 'f7': 2836444.0, 'ff': 3014370.0}]\n"
     ]
    }
   ],
   "source": [
    "data = df_plot.iloc[0].to_dict()\n",
    "test = split_dict(data, 8)\n",
    "print(test)"
   ]
  },
  {
   "cell_type": "code",
   "execution_count": 57,
   "id": "5667b277-a968-4c24-85a4-26f1c9c1c083",
   "metadata": {},
   "outputs": [],
   "source": [
    "from itertools import islice\n",
    "\n",
    "def chunks(data, SIZE=10000):\n",
    "    it = iter(data)\n",
    "    for i in range(0, len(data), SIZE):\n",
    "        yield {k:data[k] for k in islice(it, SIZE)}"
   ]
  },
  {
   "cell_type": "code",
   "execution_count": 62,
   "id": "ee409aea-ed86-4b6d-9a09-ded9f7bed1df",
   "metadata": {},
   "outputs": [
    {
     "name": "stdout",
     "output_type": "stream",
     "text": [
      "{'0': 8978626.0, '1': 3373908.0, '2': 2897366.0, '3': 3195850.0, '4': 3233464.0, '5': 2873864.0, '6': 2682027.0, '7': 3143194.0, '8': 3056032.0, '9': 3104613.0, '0a': 3156995.0, '0b': 2657491.0, '0c': 2829022.0, '0d': 2869838.0, '0e': 2934233.0, '0f': 2736084.0}\n"
     ]
    },
    {
     "data": {
      "image/png": "[encoded data removed]",
      "text/plain": [
       "<Figure size 432x288 with 1 Axes>"
      ]
     },
     "metadata": {
      "needs_background": "light"
     },
     "output_type": "display_data"
    },
    {
     "name": "stdout",
     "output_type": "stream",
     "text": [
      "{'10': 2672044.0, '11': 2840011.0, '12': 3307748.0, '13': 2646178.0, '14': 3118221.0, '15': 3170162.0, '16': 2876048.0, '17': 2429098.0, '18': 2837395.0, '19': 2969503.0, '1a': 2904479.0, '1b': 3142136.0, '1c': 3301996.0, '1d': 3255793.0, '1e': 3034048.0, '1f': 2921807.0}\n"
     ]
    },
    {
     "data": {
      "image/png": "[encoded data removed]",
      "text/plain": [
       "<Figure size 432x288 with 1 Axes>"
      ]
     },
     "metadata": {
      "needs_background": "light"
     },
     "output_type": "display_data"
    },
    {
     "name": "stdout",
     "output_type": "stream",
     "text": [
      "{'20': 3647785.0, '21': 2862421.0, '22': 2680551.0, '23': 3464830.0, '24': 4099156.0, '25': 3388516.0, '26': 2640437.0, '27': 3057099.0, '28': 2887625.0, '29': 3617798.0, '2a': 3818957.0, '2b': 3095084.0, '2c': 3066680.0, '2d': 3345387.0, '2e': 2930987.0, '2f': 2359128.0}\n"
     ]
    },
    {
     "data": {
      "image/png": "[encoded data removed]",
      "text/plain": [
       "<Figure size 432x288 with 1 Axes>"
      ]
     },
     "metadata": {
      "needs_background": "light"
     },
     "output_type": "display_data"
    },
    {
     "name": "stdout",
     "output_type": "stream",
     "text": [
      "{'30': 2597152.0, '31': 3077077.0, '32': 3151956.0, '33': 2764517.0, '34': 2987152.0, '35': 3065957.0, '36': 3162187.0, '37': 2770768.0, '38': 3148673.0, '39': 3123251.0, '3a': 3177613.0, '3b': 3128830.0, '3c': 3238993.0, '3d': 3184193.0, '3e': 3036698.0, '3f': 2901190.0}\n"
     ]
    },
    {
     "data": {
      "image/png": "[encoded data removed]",
      "text/plain": [
       "<Figure size 432x288 with 1 Axes>"
      ]
     },
     "metadata": {
      "needs_background": "light"
     },
     "output_type": "display_data"
    },
    {
     "name": "stdout",
     "output_type": "stream",
     "text": [
      "{'40': 2897022.0, '41': 3119508.0, '42': 2965385.0, '43': 2861576.0, '44': 2687857.0, '45': 3011090.0, '46': 3170372.0, '47': 3283477.0, '48': 3722523.0, '49': 4143466.0, '4a': 3896971.0, '4b': 3298934.0, '4c': 2893619.0, '4d': 3208380.0, '4e': 3206593.0, '4f': 3383160.0}\n"
     ]
    },
    {
     "data": {
      "image/png": "[encoded data removed]",
      "text/plain": [
       "<Figure size 432x288 with 1 Axes>"
      ]
     },
     "metadata": {
      "needs_background": "light"
     },
     "output_type": "display_data"
    },
    {
     "name": "stdout",
     "output_type": "stream",
     "text": [
      "{'50': 3176069.0, '51': 3340766.0, '52': 4119218.0, '53': 3466972.0, '54': 3783949.0, '55': 3780439.0, '56': 3428422.0, '57': 2981960.0, '58': 3074305.0, '59': 3096178.0, '5a': 3530284.0, '5b': 3261669.0, '5c': 3044273.0, '5d': 2947606.0, '5e': 2643361.0, '5f': 2548286.0}\n"
     ]
    },
    {
     "data": {
      "image/png": "[encoded data removed]",
      "text/plain": [
       "<Figure size 432x288 with 1 Axes>"
      ]
     },
     "metadata": {
      "needs_background": "light"
     },
     "output_type": "display_data"
    },
    {
     "name": "stdout",
     "output_type": "stream",
     "text": [
      "{'60': 2692743.0, '61': 2795550.0, '62': 2909088.0, '63': 3390024.0, '64': 3097409.0, '65': 3388774.0, '66': 2820969.0, '67': 2626051.0, '68': 2794715.0, '69': 3630796.0, '6a': 3449454.0, '6b': 3128473.0, '6c': 3043773.0, '6d': 3684752.0, '6e': 3400904.0, '6f': 2974172.0}\n"
     ]
    },
    {
     "data": {
      "image/png": "[encoded data removed]",
      "text/plain": [
       "<Figure size 432x288 with 1 Axes>"
      ]
     },
     "metadata": {
      "needs_background": "light"
     },
     "output_type": "display_data"
    },
    {
     "name": "stdout",
     "output_type": "stream",
     "text": [
      "{'70': 3006081.0, '71': 3440208.0, '72': 3350439.0, '73': 3095755.0, '74': 2994177.0, '75': 3438982.0, '76': 3083323.0, '77': 2785747.0, '78': 2767961.0, '79': 3022158.0, '7a': 3020843.0, '7b': 2874993.0, '7c': 2668189.0, '7d': 3045351.0, '7e': 2844790.0, '7f': 2797851.0}\n"
     ]
    },
    {
     "data": {
      "image/png": "[encoded data removed]",
      "text/plain": [
       "<Figure size 432x288 with 1 Axes>"
      ]
     },
     "metadata": {
      "needs_background": "light"
     },
     "output_type": "display_data"
    },
    {
     "name": "stdout",
     "output_type": "stream",
     "text": [
      "{'80': 2870460.0, '81': 2724601.0, '82': 3132061.0, '83': 2615422.0, '84': 2565342.0, '85': 2975553.0, '86': 2999200.0, '87': 2585129.0, '88': 2750912.0, '89': 2921551.0, '8a': 3149340.0, '8b': 2635956.0, '8c': 3077107.0, '8d': 3183649.0, '8e': 3619527.0, '8f': 3215546.0}\n"
     ]
    },
    {
     "data": {
      "image/png": "[encoded data removed]",
      "text/plain": [
       "<Figure size 432x288 with 1 Axes>"
      ]
     },
     "metadata": {
      "needs_background": "light"
     },
     "output_type": "display_data"
    },
    {
     "name": "stdout",
     "output_type": "stream",
     "text": [
      "{'90': 3372728.0, '91': 3363241.0, '92': 4187774.0, '93': 3051108.0, '94': 3413169.0, '95': 3746865.0, '96': 3542056.0, '97': 2776702.0, '98': 2780473.0, '99': 2895111.0, '9a': 3124856.0, '9b': 2739016.0, '9c': 2924381.0, '9d': 2999565.0, '9e': 3347600.0, '9f': 2974519.0}\n"
     ]
    },
    {
     "data": {
      "image/png": "[encoded data removed]",
      "text/plain": [
       "<Figure size 432x288 with 1 Axes>"
      ]
     },
     "metadata": {
      "needs_background": "light"
     },
     "output_type": "display_data"
    },
    {
     "name": "stdout",
     "output_type": "stream",
     "text": [
      "{'a0': 2788820.0, 'a1': 2856955.0, 'a2': 2998896.0, 'a3': 2947717.0, 'a4': 3700051.0, 'a5': 3804288.0, 'a6': 3440405.0, 'a7': 3532570.0, 'a8': 3599704.0, 'a9': 3904068.0, 'aa': 3712127.0, 'ab': 3299573.0, 'ac': 3049956.0, 'ad': 3444600.0, 'ae': 3127384.0, 'af': 2870966.0}\n"
     ]
    },
    {
     "data": {
      "image/png": "[encoded data removed]",
      "text/plain": [
       "<Figure size 432x288 with 1 Axes>"
      ]
     },
     "metadata": {
      "needs_background": "light"
     },
     "output_type": "display_data"
    },
    {
     "name": "stdout",
     "output_type": "stream",
     "text": [
      "{'b0': 2808853.0, 'b1': 3144530.0, 'b2': 3138503.0, 'b3': 2617681.0, 'b4': 3320717.0, 'b5': 3498628.0, 'b6': 3485112.0, 'b7': 3447675.0, 'b8': 3242802.0, 'b9': 3162690.0, 'ba': 3102746.0, 'bb': 2725301.0, 'bc': 2545294.0, 'bd': 2708386.0, 'be': 2721192.0, 'bf': 2752753.0}\n"
     ]
    },
    {
     "data": {
      "image/png": "[encoded data removed]",
      "text/plain": [
       "<Figure size 432x288 with 1 Axes>"
      ]
     },
     "metadata": {
      "needs_background": "light"
     },
     "output_type": "display_data"
    },
    {
     "name": "stdout",
     "output_type": "stream",
     "text": [
      "{'c0': 2701606.0, 'c1': 2670637.0, 'c2': 2646292.0, 'c3': 2800972.0, 'c4': 3050483.0, 'c5': 2800989.0, 'c6': 3131060.0, 'c7': 3593030.0, 'c8': 3030489.0, 'c9': 3146004.0, 'ca': 3273737.0, 'cb': 3017633.0, 'cc': 2794325.0, 'cd': 2672821.0, 'ce': 2724853.0, 'cf': 2958190.0}\n"
     ]
    },
    {
     "data": {
      "image/png": "[encoded data removed]",
      "text/plain": [
       "<Figure size 432x288 with 1 Axes>"
      ]
     },
     "metadata": {
      "needs_background": "light"
     },
     "output_type": "display_data"
    },
    {
     "name": "stdout",
     "output_type": "stream",
     "text": [
      "{'d0': 2489820.0, 'd1': 2622710.0, 'd2': 3459364.0, 'd3': 3531185.0, 'd4': 3754589.0, 'd5': 3249689.0, 'd6': 3095885.0, 'd7': 3027545.0, 'd8': 2908308.0, 'd9': 2676553.0, 'da': 3325478.0, 'db': 3657557.0, 'dc': 3355216.0, 'dd': 2871298.0, 'de': 2609250.0, 'df': 2925623.0}\n"
     ]
    },
    {
     "data": {
      "image/png": "[encoded data removed]",
      "text/plain": [
       "<Figure size 432x288 with 1 Axes>"
      ]
     },
     "metadata": {
      "needs_background": "light"
     },
     "output_type": "display_data"
    },
    {
     "name": "stdout",
     "output_type": "stream",
     "text": [
      "{'e0': 2679742.0, 'e1': 2754578.0, 'e2': 2942846.0, 'e3': 3439692.0, 'e4': 3140364.0, 'e5': 3090521.0, 'e6': 2677735.0, 'e7': 3115012.0, 'e8': 2329821.0, 'e9': 3445617.0, 'ea': 3545483.0, 'eb': 3011927.0, 'ec': 2628518.0, 'ed': 3320571.0, 'ee': 2919997.0, 'ef': 2661692.0}\n"
     ]
    },
    {
     "data": {
      "image/png": "[encoded data removed]",
      "text/plain": [
       "<Figure size 432x288 with 1 Axes>"
      ]
     },
     "metadata": {
      "needs_background": "light"
     },
     "output_type": "display_data"
    },
    {
     "name": "stdout",
     "output_type": "stream",
     "text": [
      "{'f0': 2498267.0, 'f1': 2962182.0, 'f2': 2992651.0, 'f3': 2771087.0, 'f4': 2914160.0, 'f5': 3187153.0, 'f6': 2894078.0, 'f7': 2836444.0, 'f8': 2669568.0, 'f9': 2772320.0, 'fa': 3065915.0, 'fb': 2847527.0, 'fc': 2772409.0, 'fd': 2860630.0, 'fe': 2790598.0, 'ff': 3014370.0}\n"
     ]
    },
    {
     "data": {
      "image/png": "[encoded data removed]",
      "text/plain": [
       "<Figure size 432x288 with 1 Axes>"
      ]
     },
     "metadata": {
      "needs_background": "light"
     },
     "output_type": "display_data"
    }
   ],
   "source": [
    "for item in chunks(data, 16):\n",
    "    print(item)\n",
    "    names = list(item.keys())\n",
    "    values = list(item.values())\n",
    "\n",
    "    y_pos = np.arange(len(names))\n",
    "    plt.bar(y_pos,values, align='center', alpha=0.5)\n",
    "    plt.xticks(y_pos, names)\n",
    "    plt.ylabel('Usage')\n",
    "    plt.show() "
   ]
  },
  {
   "cell_type": "code",
   "execution_count": null,
   "id": "35b8900d-ae1b-4219-a61f-e16409a9743b",
   "metadata": {},
   "outputs": [],
   "source": [
    "names = list(data.keys())\n",
    "values = list(data.values())\n",
    "\n",
    "y_pos = np.arange(len(names))\n",
    "plt.bar(y_pos,values, align='center', alpha=0.5)\n",
    "plt.xticks(y_pos, names)\n",
    "plt.ylabel('Usage')\n",
    "plt.show() "
   ]
  }
 ],
 "metadata": {
  "kernelspec": {
   "display_name": "Python 3 (ipykernel)",
   "language": "python",
   "name": "python3"
  },
  "language_info": {
   "codemirror_mode": {
    "name": "ipython",
    "version": 3
   },
   "file_extension": ".py",
   "mimetype": "text/x-python",
   "name": "python",
   "nbconvert_exporter": "python",
   "pygments_lexer": "ipython3",
   "version": "3.10.4"
  }
 },
 "nbformat": 4,
 "nbformat_minor": 5
}
